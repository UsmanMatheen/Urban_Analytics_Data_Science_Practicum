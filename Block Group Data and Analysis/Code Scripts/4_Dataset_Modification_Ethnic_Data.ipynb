{
 "cells": [
  {
   "cell_type": "code",
   "execution_count": 3,
   "id": "74770878",
   "metadata": {},
   "outputs": [],
   "source": [
    "import geopandas as gpd"
   ]
  },
  {
   "cell_type": "code",
   "execution_count": 4,
   "id": "df29a3fe",
   "metadata": {},
   "outputs": [],
   "source": [
    "gdf = gpd.read_file(r\"E:\\IIT Chicago\\Sem 4\\Data Science Practicum - CSP-572\\Analysis\\Dataset Files\\blkgrp_data_with vacant_property_data.geojson\")"
   ]
  },
  {
   "cell_type": "code",
   "execution_count": 5,
   "id": "6be94049",
   "metadata": {},
   "outputs": [],
   "source": [
    "column_names = gdf.columns.tolist()"
   ]
  },
  {
   "cell_type": "code",
   "execution_count": 6,
   "id": "52afaefa",
   "metadata": {},
   "outputs": [
    {
     "name": "stdout",
     "output_type": "stream",
     "text": [
      "['avg_MPG_per_household', 'avg_Emissions_per_household', 'avg_age_per_household', 'median_VMT_per_household', 'median_MPG_per_household', 'median_Emissions_per_household', 'median_age_per_household', 'cars_per_household', 'avg_Emissions_per_person', 'median_Emissions_per_person', 'Total', 'White alone', 'Black or African American alone', 'American Indian and Alaska Native alone', 'Asian alone', 'Native Hawaiian and Other Pacific Islander alone', 'Some Other Race alone', 'Two or More Races', 'Two or More Races_Two races including Some Other Race', 'Two or More Races_Two races excluding Some Other Race, and three or more races', 'not_inside_cc', 'inside_cc', 'total_vp_count']\n"
     ]
    }
   ],
   "source": [
    "print(column_names[15:38])"
   ]
  },
  {
   "cell_type": "code",
   "execution_count": 7,
   "id": "52728b7b",
   "metadata": {},
   "outputs": [],
   "source": [
    "gdf['Other Races'] = (\n",
    "    gdf['Total'].astype(int)\n",
    "    - gdf['White alone'].astype(int)\n",
    "    - gdf['Black or African American alone'].astype(int)\n",
    ")"
   ]
  },
  {
   "cell_type": "code",
   "execution_count": 9,
   "id": "f71f5d66",
   "metadata": {},
   "outputs": [],
   "source": [
    "columns_to_drop = [\n",
    "    'American Indian and Alaska Native alone',\n",
    "    'Asian alone',\n",
    "    'Native Hawaiian and Other Pacific Islander alone',\n",
    "    'Some Other Race alone',\n",
    "    'Two or More Races',\n",
    "    'Two or More Races_Two races including Some Other Race',\n",
    "    'Two or More Races_Two races excluding Some Other Race, and three or more races'\n",
    "]\n",
    "\n",
    "gdf = gdf.drop(columns=columns_to_drop)\n"
   ]
  },
  {
   "cell_type": "code",
   "execution_count": 11,
   "id": "b3aac86f",
   "metadata": {},
   "outputs": [],
   "source": [
    "column_names = gdf.columns.tolist()"
   ]
  },
  {
   "cell_type": "code",
   "execution_count": 13,
   "id": "955fee05",
   "metadata": {},
   "outputs": [
    {
     "name": "stdout",
     "output_type": "stream",
     "text": [
      "['avg_MPG_per_household', 'avg_Emissions_per_household', 'avg_age_per_household', 'median_VMT_per_household', 'median_MPG_per_household', 'median_Emissions_per_household', 'median_age_per_household', 'cars_per_household', 'avg_Emissions_per_person', 'median_Emissions_per_person', 'Total', 'White alone', 'Black or African American alone', 'not_inside_cc', 'inside_cc', 'total_vp_count', 'geometry', 'Other Races']\n"
     ]
    }
   ],
   "source": [
    "print(column_names[15:33])"
   ]
  },
  {
   "cell_type": "code",
   "execution_count": 14,
   "id": "3449d705",
   "metadata": {},
   "outputs": [],
   "source": [
    "gdf.to_file(r\"E:\\IIT Chicago\\Sem 4\\Data Science Practicum - CSP-572\\Analysis\\Dataset Files\\blkgrp_data_with ethnicity_data_simplified.geojson\", driver=\"GeoJSON\")"
   ]
  }
 ],
 "metadata": {
  "kernelspec": {
   "display_name": "urban_analytics",
   "language": "python",
   "name": "python3"
  },
  "language_info": {
   "codemirror_mode": {
    "name": "ipython",
    "version": 3
   },
   "file_extension": ".py",
   "mimetype": "text/x-python",
   "name": "python",
   "nbconvert_exporter": "python",
   "pygments_lexer": "ipython3",
   "version": "3.11.11"
  }
 },
 "nbformat": 4,
 "nbformat_minor": 5
}
