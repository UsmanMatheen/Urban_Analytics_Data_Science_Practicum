{
 "cells": [
  {
   "cell_type": "code",
   "execution_count": 1,
   "metadata": {},
   "outputs": [],
   "source": [
    "import pandas as pd"
   ]
  },
  {
   "cell_type": "markdown",
   "metadata": {},
   "source": [
    "# Part 1 - Dataset"
   ]
  },
  {
   "cell_type": "code",
   "execution_count": 5,
   "metadata": {},
   "outputs": [],
   "source": [
    "df1 = pd.read_csv(r\"E:\\IIT Chicago\\Sem 4\\Data Science Practicum - CSP-572\\Datasets\\Odometer Data\\complete_data_with_mpg.csv\")"
   ]
  },
  {
   "cell_type": "code",
   "execution_count": 7,
   "metadata": {},
   "outputs": [
    {
     "data": {
      "text/html": [
       "<div>\n",
       "<style scoped>\n",
       "    .dataframe tbody tr th:only-of-type {\n",
       "        vertical-align: middle;\n",
       "    }\n",
       "\n",
       "    .dataframe tbody tr th {\n",
       "        vertical-align: top;\n",
       "    }\n",
       "\n",
       "    .dataframe thead th {\n",
       "        text-align: right;\n",
       "    }\n",
       "</style>\n",
       "<table border=\"1\" class=\"dataframe\">\n",
       "  <thead>\n",
       "    <tr style=\"text-align: right;\">\n",
       "      <th></th>\n",
       "      <th>vin</th>\n",
       "      <th>zipcode</th>\n",
       "      <th>odometer</th>\n",
       "      <th>test_date</th>\n",
       "      <th>make</th>\n",
       "      <th>model</th>\n",
       "      <th>my</th>\n",
       "      <th>purchase_date</th>\n",
       "      <th>Combination MPG</th>\n",
       "    </tr>\n",
       "  </thead>\n",
       "  <tbody>\n",
       "    <tr>\n",
       "      <th>0</th>\n",
       "      <td>WBAEV33452KL68783</td>\n",
       "      <td>606551055.0</td>\n",
       "      <td>125000</td>\n",
       "      <td>6/1/2020</td>\n",
       "      <td>BMW</td>\n",
       "      <td>3 Series</td>\n",
       "      <td>2002</td>\n",
       "      <td>5/1/2021</td>\n",
       "      <td>21</td>\n",
       "    </tr>\n",
       "    <tr>\n",
       "      <th>1</th>\n",
       "      <td>1GBFG15R6Y1100200</td>\n",
       "      <td>606321626.0</td>\n",
       "      <td>206000</td>\n",
       "      <td>6/1/2020</td>\n",
       "      <td>CHEV</td>\n",
       "      <td>Express Cargo</td>\n",
       "      <td>2000</td>\n",
       "      <td>5/21/2017</td>\n",
       "      <td>No data found</td>\n",
       "    </tr>\n",
       "    <tr>\n",
       "      <th>2</th>\n",
       "      <td>1GCDT136548185796</td>\n",
       "      <td>605011310.0</td>\n",
       "      <td>109000</td>\n",
       "      <td>6/1/2020</td>\n",
       "      <td>CHEV</td>\n",
       "      <td>Colorado</td>\n",
       "      <td>2004</td>\n",
       "      <td>6/18/2013</td>\n",
       "      <td>18</td>\n",
       "    </tr>\n",
       "    <tr>\n",
       "      <th>3</th>\n",
       "      <td>2GKALMEK0C6364495</td>\n",
       "      <td>604534400.0</td>\n",
       "      <td>80000</td>\n",
       "      <td>6/1/2020</td>\n",
       "      <td>GMC</td>\n",
       "      <td>Terrain</td>\n",
       "      <td>2012</td>\n",
       "      <td>4/26/2018</td>\n",
       "      <td>20</td>\n",
       "    </tr>\n",
       "    <tr>\n",
       "      <th>4</th>\n",
       "      <td>1HGCG1652YA094701</td>\n",
       "      <td>604591106.0</td>\n",
       "      <td>167000</td>\n",
       "      <td>6/1/2020</td>\n",
       "      <td>HOND</td>\n",
       "      <td>Accord</td>\n",
       "      <td>2000</td>\n",
       "      <td>7/19/2014</td>\n",
       "      <td>23</td>\n",
       "    </tr>\n",
       "  </tbody>\n",
       "</table>\n",
       "</div>"
      ],
      "text/plain": [
       "                 vin      zipcode  odometer test_date  make          model  \\\n",
       "0  WBAEV33452KL68783  606551055.0    125000  6/1/2020  BMW        3 Series   \n",
       "1  1GBFG15R6Y1100200  606321626.0    206000  6/1/2020  CHEV  Express Cargo   \n",
       "2  1GCDT136548185796  605011310.0    109000  6/1/2020  CHEV       Colorado   \n",
       "3  2GKALMEK0C6364495  604534400.0     80000  6/1/2020  GMC         Terrain   \n",
       "4  1HGCG1652YA094701  604591106.0    167000  6/1/2020  HOND         Accord   \n",
       "\n",
       "     my purchase_date Combination MPG  \n",
       "0  2002      5/1/2021              21  \n",
       "1  2000     5/21/2017   No data found  \n",
       "2  2004     6/18/2013              18  \n",
       "3  2012     4/26/2018              20  \n",
       "4  2000     7/19/2014              23  "
      ]
     },
     "execution_count": 7,
     "metadata": {},
     "output_type": "execute_result"
    }
   ],
   "source": [
    "df1.head()"
   ]
  },
  {
   "cell_type": "code",
   "execution_count": 8,
   "metadata": {},
   "outputs": [
    {
     "name": "stdout",
     "output_type": "stream",
     "text": [
      "<class 'pandas.core.frame.DataFrame'>\n",
      "RangeIndex: 8362886 entries, 0 to 8362885\n",
      "Data columns (total 9 columns):\n",
      " #   Column           Dtype  \n",
      "---  ------           -----  \n",
      " 0   vin              object \n",
      " 1   zipcode          float64\n",
      " 2   odometer         int64  \n",
      " 3   test_date        object \n",
      " 4   make             object \n",
      " 5   model            object \n",
      " 6   my               int64  \n",
      " 7   purchase_date    object \n",
      " 8   Combination MPG  object \n",
      "dtypes: float64(1), int64(2), object(6)\n",
      "memory usage: 574.2+ MB\n"
     ]
    }
   ],
   "source": [
    "df1.info()"
   ]
  },
  {
   "cell_type": "code",
   "execution_count": 9,
   "metadata": {},
   "outputs": [],
   "source": [
    "df1['zipcode'] = df1['zipcode'].astype('Int64')"
   ]
  },
  {
   "cell_type": "code",
   "execution_count": 10,
   "metadata": {},
   "outputs": [],
   "source": [
    "df1['zipcode'] = df1['zipcode'].astype('string')"
   ]
  },
  {
   "cell_type": "code",
   "execution_count": 11,
   "metadata": {},
   "outputs": [
    {
     "data": {
      "text/html": [
       "<div>\n",
       "<style scoped>\n",
       "    .dataframe tbody tr th:only-of-type {\n",
       "        vertical-align: middle;\n",
       "    }\n",
       "\n",
       "    .dataframe tbody tr th {\n",
       "        vertical-align: top;\n",
       "    }\n",
       "\n",
       "    .dataframe thead th {\n",
       "        text-align: right;\n",
       "    }\n",
       "</style>\n",
       "<table border=\"1\" class=\"dataframe\">\n",
       "  <thead>\n",
       "    <tr style=\"text-align: right;\">\n",
       "      <th></th>\n",
       "      <th>vin</th>\n",
       "      <th>zipcode</th>\n",
       "      <th>odometer</th>\n",
       "      <th>test_date</th>\n",
       "      <th>make</th>\n",
       "      <th>model</th>\n",
       "      <th>my</th>\n",
       "      <th>purchase_date</th>\n",
       "      <th>Combination MPG</th>\n",
       "    </tr>\n",
       "  </thead>\n",
       "  <tbody>\n",
       "    <tr>\n",
       "      <th>0</th>\n",
       "      <td>WBAEV33452KL68783</td>\n",
       "      <td>606551055</td>\n",
       "      <td>125000</td>\n",
       "      <td>6/1/2020</td>\n",
       "      <td>BMW</td>\n",
       "      <td>3 Series</td>\n",
       "      <td>2002</td>\n",
       "      <td>5/1/2021</td>\n",
       "      <td>21</td>\n",
       "    </tr>\n",
       "    <tr>\n",
       "      <th>1</th>\n",
       "      <td>1GBFG15R6Y1100200</td>\n",
       "      <td>606321626</td>\n",
       "      <td>206000</td>\n",
       "      <td>6/1/2020</td>\n",
       "      <td>CHEV</td>\n",
       "      <td>Express Cargo</td>\n",
       "      <td>2000</td>\n",
       "      <td>5/21/2017</td>\n",
       "      <td>No data found</td>\n",
       "    </tr>\n",
       "    <tr>\n",
       "      <th>2</th>\n",
       "      <td>1GCDT136548185796</td>\n",
       "      <td>605011310</td>\n",
       "      <td>109000</td>\n",
       "      <td>6/1/2020</td>\n",
       "      <td>CHEV</td>\n",
       "      <td>Colorado</td>\n",
       "      <td>2004</td>\n",
       "      <td>6/18/2013</td>\n",
       "      <td>18</td>\n",
       "    </tr>\n",
       "    <tr>\n",
       "      <th>3</th>\n",
       "      <td>2GKALMEK0C6364495</td>\n",
       "      <td>604534400</td>\n",
       "      <td>80000</td>\n",
       "      <td>6/1/2020</td>\n",
       "      <td>GMC</td>\n",
       "      <td>Terrain</td>\n",
       "      <td>2012</td>\n",
       "      <td>4/26/2018</td>\n",
       "      <td>20</td>\n",
       "    </tr>\n",
       "    <tr>\n",
       "      <th>4</th>\n",
       "      <td>1HGCG1652YA094701</td>\n",
       "      <td>604591106</td>\n",
       "      <td>167000</td>\n",
       "      <td>6/1/2020</td>\n",
       "      <td>HOND</td>\n",
       "      <td>Accord</td>\n",
       "      <td>2000</td>\n",
       "      <td>7/19/2014</td>\n",
       "      <td>23</td>\n",
       "    </tr>\n",
       "  </tbody>\n",
       "</table>\n",
       "</div>"
      ],
      "text/plain": [
       "                 vin    zipcode  odometer test_date  make          model  \\\n",
       "0  WBAEV33452KL68783  606551055    125000  6/1/2020  BMW        3 Series   \n",
       "1  1GBFG15R6Y1100200  606321626    206000  6/1/2020  CHEV  Express Cargo   \n",
       "2  1GCDT136548185796  605011310    109000  6/1/2020  CHEV       Colorado   \n",
       "3  2GKALMEK0C6364495  604534400     80000  6/1/2020  GMC         Terrain   \n",
       "4  1HGCG1652YA094701  604591106    167000  6/1/2020  HOND         Accord   \n",
       "\n",
       "     my purchase_date Combination MPG  \n",
       "0  2002      5/1/2021              21  \n",
       "1  2000     5/21/2017   No data found  \n",
       "2  2004     6/18/2013              18  \n",
       "3  2012     4/26/2018              20  \n",
       "4  2000     7/19/2014              23  "
      ]
     },
     "execution_count": 11,
     "metadata": {},
     "output_type": "execute_result"
    }
   ],
   "source": [
    "df1.head()"
   ]
  },
  {
   "cell_type": "code",
   "execution_count": 12,
   "metadata": {},
   "outputs": [
    {
     "name": "stdout",
     "output_type": "stream",
     "text": [
      "<class 'pandas.core.frame.DataFrame'>\n",
      "RangeIndex: 8362886 entries, 0 to 8362885\n",
      "Data columns (total 9 columns):\n",
      " #   Column           Dtype \n",
      "---  ------           ----- \n",
      " 0   vin              object\n",
      " 1   zipcode          string\n",
      " 2   odometer         int64 \n",
      " 3   test_date        object\n",
      " 4   make             object\n",
      " 5   model            object\n",
      " 6   my               int64 \n",
      " 7   purchase_date    object\n",
      " 8   Combination MPG  object\n",
      "dtypes: int64(2), object(6), string(1)\n",
      "memory usage: 574.2+ MB\n"
     ]
    }
   ],
   "source": [
    "df1.info()"
   ]
  },
  {
   "cell_type": "code",
   "execution_count": 33,
   "metadata": {},
   "outputs": [],
   "source": [
    "df1 = df1.drop_duplicates(subset='vin', keep='first')"
   ]
  },
  {
   "cell_type": "code",
   "execution_count": 38,
   "metadata": {},
   "outputs": [
    {
     "name": "stdout",
     "output_type": "stream",
     "text": [
      "<class 'pandas.core.frame.DataFrame'>\n",
      "Index: 5201215 entries, 0 to 8362884\n",
      "Data columns (total 9 columns):\n",
      " #   Column           Dtype \n",
      "---  ------           ----- \n",
      " 0   vin              object\n",
      " 1   zipcode          string\n",
      " 2   odometer         int64 \n",
      " 3   test_date        object\n",
      " 4   make             object\n",
      " 5   model            object\n",
      " 6   my               int64 \n",
      " 7   purchase_date    object\n",
      " 8   Combination MPG  object\n",
      "dtypes: int64(2), object(6), string(1)\n",
      "memory usage: 396.8+ MB\n"
     ]
    }
   ],
   "source": [
    "df1.info()"
   ]
  },
  {
   "cell_type": "markdown",
   "metadata": {},
   "source": [
    "# Part 2 - Original Odometer Dataset Used to get 9 Digit Zipcode"
   ]
  },
  {
   "cell_type": "code",
   "execution_count": 43,
   "metadata": {},
   "outputs": [],
   "source": [
    "df2 = pd.read_csv(r\"E:\\IIT Chicago\\Sem 4\\Data Science Practicum - CSP-572\\Datasets\\Odometer Data\\dataset_emissions_demographic.csv\")"
   ]
  },
  {
   "cell_type": "code",
   "execution_count": 45,
   "metadata": {},
   "outputs": [],
   "source": [
    "# Rename column\n",
    "df2.rename(columns={'zipcode': 'zip'}, inplace=True)"
   ]
  },
  {
   "cell_type": "code",
   "execution_count": 46,
   "metadata": {},
   "outputs": [],
   "source": [
    "df2 = df2.merge(df1[['vin', 'zipcode']], on='vin', how='left')"
   ]
  },
  {
   "cell_type": "markdown",
   "metadata": {},
   "source": [
    "# Part 3 - Add the block group id column to dataset by matching on 9 digit zipcode"
   ]
  },
  {
   "cell_type": "code",
   "execution_count": 52,
   "metadata": {},
   "outputs": [],
   "source": [
    "df3 = pd.read_csv(r\"C:\\Users\\Siddhant\\Downloads\\Zip+4 - Census Crosswalk\\zip_to_blockgrp.csv\")"
   ]
  },
  {
   "cell_type": "code",
   "execution_count": 55,
   "metadata": {},
   "outputs": [
    {
     "data": {
      "text/html": [
       "<div>\n",
       "<style scoped>\n",
       "    .dataframe tbody tr th:only-of-type {\n",
       "        vertical-align: middle;\n",
       "    }\n",
       "\n",
       "    .dataframe tbody tr th {\n",
       "        vertical-align: top;\n",
       "    }\n",
       "\n",
       "    .dataframe thead th {\n",
       "        text-align: right;\n",
       "    }\n",
       "</style>\n",
       "<table border=\"1\" class=\"dataframe\">\n",
       "  <thead>\n",
       "    <tr style=\"text-align: right;\">\n",
       "      <th></th>\n",
       "      <th>zipcode</th>\n",
       "      <th>gid</th>\n",
       "      <th>geom</th>\n",
       "      <th>zip</th>\n",
       "      <th>plus4</th>\n",
       "      <th>long</th>\n",
       "      <th>lat</th>\n",
       "      <th>from_mapquest</th>\n",
       "      <th>blkgrp</th>\n",
       "      <th>meters_to_zip</th>\n",
       "      <th>Unnamed: 10</th>\n",
       "      <th>Unnamed: 11</th>\n",
       "      <th>Unnamed: 12</th>\n",
       "      <th>Unnamed: 13</th>\n",
       "      <th>Unnamed: 14</th>\n",
       "    </tr>\n",
       "  </thead>\n",
       "  <tbody>\n",
       "    <tr>\n",
       "      <th>0</th>\n",
       "      <td>60608-4867</td>\n",
       "      <td>250917</td>\n",
       "      <td>POINT (-87.6703 41.85492)</td>\n",
       "      <td>60608</td>\n",
       "      <td>4867</td>\n",
       "      <td>-87.67030</td>\n",
       "      <td>41.85492</td>\n",
       "      <td>True</td>\n",
       "      <td>1.703131e+11</td>\n",
       "      <td>0.0</td>\n",
       "      <td>NaN</td>\n",
       "      <td>NaN</td>\n",
       "      <td>NaN</td>\n",
       "      <td>NaN</td>\n",
       "      <td>NaN</td>\n",
       "    </tr>\n",
       "    <tr>\n",
       "      <th>1</th>\n",
       "      <td>60608-5461</td>\n",
       "      <td>251063</td>\n",
       "      <td>POINT (-87.67036 41.85506)</td>\n",
       "      <td>60608</td>\n",
       "      <td>5461</td>\n",
       "      <td>-87.67036</td>\n",
       "      <td>41.85506</td>\n",
       "      <td>True</td>\n",
       "      <td>1.703131e+11</td>\n",
       "      <td>0.0</td>\n",
       "      <td>NaN</td>\n",
       "      <td>NaN</td>\n",
       "      <td>NaN</td>\n",
       "      <td>NaN</td>\n",
       "      <td>NaN</td>\n",
       "    </tr>\n",
       "    <tr>\n",
       "      <th>2</th>\n",
       "      <td>60608-5463</td>\n",
       "      <td>251065</td>\n",
       "      <td>POINT (-87.67074 41.85492)</td>\n",
       "      <td>60608</td>\n",
       "      <td>5463</td>\n",
       "      <td>-87.67074</td>\n",
       "      <td>41.85492</td>\n",
       "      <td>True</td>\n",
       "      <td>1.703131e+11</td>\n",
       "      <td>0.0</td>\n",
       "      <td>NaN</td>\n",
       "      <td>NaN</td>\n",
       "      <td>NaN</td>\n",
       "      <td>NaN</td>\n",
       "      <td>NaN</td>\n",
       "    </tr>\n",
       "    <tr>\n",
       "      <th>3</th>\n",
       "      <td>60477-3791</td>\n",
       "      <td>199176</td>\n",
       "      <td>POINT (-87.77828 41.57682)</td>\n",
       "      <td>60477</td>\n",
       "      <td>3791</td>\n",
       "      <td>-87.77828</td>\n",
       "      <td>41.57682</td>\n",
       "      <td>True</td>\n",
       "      <td>1.703183e+11</td>\n",
       "      <td>0.0</td>\n",
       "      <td>NaN</td>\n",
       "      <td>NaN</td>\n",
       "      <td>NaN</td>\n",
       "      <td>NaN</td>\n",
       "      <td>NaN</td>\n",
       "    </tr>\n",
       "    <tr>\n",
       "      <th>4</th>\n",
       "      <td>60477-4273</td>\n",
       "      <td>199359</td>\n",
       "      <td>POINT (-87.78108 41.57336)</td>\n",
       "      <td>60477</td>\n",
       "      <td>4273</td>\n",
       "      <td>-87.78108</td>\n",
       "      <td>41.57336</td>\n",
       "      <td>True</td>\n",
       "      <td>1.703183e+11</td>\n",
       "      <td>0.0</td>\n",
       "      <td>NaN</td>\n",
       "      <td>NaN</td>\n",
       "      <td>NaN</td>\n",
       "      <td>NaN</td>\n",
       "      <td>NaN</td>\n",
       "    </tr>\n",
       "  </tbody>\n",
       "</table>\n",
       "</div>"
      ],
      "text/plain": [
       "      zipcode     gid                        geom    zip  plus4      long  \\\n",
       "0  60608-4867  250917   POINT (-87.6703 41.85492)  60608   4867 -87.67030   \n",
       "1  60608-5461  251063  POINT (-87.67036 41.85506)  60608   5461 -87.67036   \n",
       "2  60608-5463  251065  POINT (-87.67074 41.85492)  60608   5463 -87.67074   \n",
       "3  60477-3791  199176  POINT (-87.77828 41.57682)  60477   3791 -87.77828   \n",
       "4  60477-4273  199359  POINT (-87.78108 41.57336)  60477   4273 -87.78108   \n",
       "\n",
       "        lat  from_mapquest        blkgrp  meters_to_zip  Unnamed: 10  \\\n",
       "0  41.85492           True  1.703131e+11            0.0          NaN   \n",
       "1  41.85506           True  1.703131e+11            0.0          NaN   \n",
       "2  41.85492           True  1.703131e+11            0.0          NaN   \n",
       "3  41.57682           True  1.703183e+11            0.0          NaN   \n",
       "4  41.57336           True  1.703183e+11            0.0          NaN   \n",
       "\n",
       "   Unnamed: 11  Unnamed: 12  Unnamed: 13  Unnamed: 14  \n",
       "0          NaN          NaN          NaN          NaN  \n",
       "1          NaN          NaN          NaN          NaN  \n",
       "2          NaN          NaN          NaN          NaN  \n",
       "3          NaN          NaN          NaN          NaN  \n",
       "4          NaN          NaN          NaN          NaN  "
      ]
     },
     "execution_count": 55,
     "metadata": {},
     "output_type": "execute_result"
    }
   ],
   "source": [
    "df3.head()"
   ]
  },
  {
   "cell_type": "code",
   "execution_count": 56,
   "metadata": {},
   "outputs": [],
   "source": [
    "df3['zipcode'] = df3['zipcode'].astype(str).str.replace('-', '', regex=True)"
   ]
  },
  {
   "cell_type": "code",
   "execution_count": 57,
   "metadata": {},
   "outputs": [
    {
     "name": "stdout",
     "output_type": "stream",
     "text": [
      "<class 'pandas.core.frame.DataFrame'>\n",
      "RangeIndex: 341865 entries, 0 to 341864\n",
      "Data columns (total 15 columns):\n",
      " #   Column         Non-Null Count   Dtype  \n",
      "---  ------         --------------   -----  \n",
      " 0   zipcode        341865 non-null  object \n",
      " 1   gid            341865 non-null  int64  \n",
      " 2   geom           341660 non-null  object \n",
      " 3   zip            341865 non-null  int64  \n",
      " 4   plus4          341865 non-null  int64  \n",
      " 5   long           341660 non-null  float64\n",
      " 6   lat            341653 non-null  float64\n",
      " 7   from_mapquest  341865 non-null  bool   \n",
      " 8   blkgrp         341660 non-null  float64\n",
      " 9   meters_to_zip  341865 non-null  float64\n",
      " 10  Unnamed: 10    0 non-null       float64\n",
      " 11  Unnamed: 11    0 non-null       float64\n",
      " 12  Unnamed: 12    0 non-null       float64\n",
      " 13  Unnamed: 13    0 non-null       float64\n",
      " 14  Unnamed: 14    0 non-null       float64\n",
      "dtypes: bool(1), float64(9), int64(3), object(2)\n",
      "memory usage: 36.8+ MB\n"
     ]
    }
   ],
   "source": [
    "df3.info()"
   ]
  },
  {
   "cell_type": "code",
   "execution_count": 100,
   "metadata": {},
   "outputs": [
    {
     "data": {
      "text/plain": [
       "341865"
      ]
     },
     "execution_count": 100,
     "metadata": {},
     "output_type": "execute_result"
    }
   ],
   "source": [
    "df3['gid'].nunique()"
   ]
  },
  {
   "cell_type": "code",
   "execution_count": 65,
   "metadata": {},
   "outputs": [],
   "source": [
    "df3['zipcode'] = df3['zipcode'].astype('Int64')"
   ]
  },
  {
   "cell_type": "code",
   "execution_count": 66,
   "metadata": {},
   "outputs": [],
   "source": [
    "df3['zipcode'] = df3['zipcode'].astype('string')"
   ]
  },
  {
   "cell_type": "code",
   "execution_count": 74,
   "metadata": {},
   "outputs": [],
   "source": [
    "df2['zipcode'] = df2['zipcode'].astype('Int64')"
   ]
  },
  {
   "cell_type": "code",
   "execution_count": 75,
   "metadata": {},
   "outputs": [],
   "source": [
    "df2['zipcode'] = df2['zipcode'].astype('string')"
   ]
  },
  {
   "cell_type": "code",
   "execution_count": 108,
   "metadata": {},
   "outputs": [],
   "source": [
    "df2 = df2.merge(df3[['blkgrp', 'zipcode']], on='zipcode', how='left')"
   ]
  },
  {
   "cell_type": "code",
   "execution_count": 109,
   "metadata": {},
   "outputs": [
    {
     "name": "stdout",
     "output_type": "stream",
     "text": [
      "<class 'pandas.core.frame.DataFrame'>\n",
      "RangeIndex: 5195673 entries, 0 to 5195672\n",
      "Data columns (total 17 columns):\n",
      " #   Column                  Dtype  \n",
      "---  ------                  -----  \n",
      " 0   vin                     object \n",
      " 1   zip                     int64  \n",
      " 2   make                    object \n",
      " 3   model                   object \n",
      " 4   my                      int64  \n",
      " 5   purchase_date           object \n",
      " 6   Combination MPG         float64\n",
      " 7   1st Test Date           object \n",
      " 8   2nd Test Date           object \n",
      " 9   1st Odometer            int64  \n",
      " 10  2nd Odometer            float64\n",
      " 11  Date Difference (Days)  float64\n",
      " 12  VMT                     float64\n",
      " 13  Fuel Used               float64\n",
      " 14  Fuel_Type               object \n",
      " 15  zipcode                 string \n",
      " 16  blkgrp                  float64\n",
      "dtypes: float64(6), int64(3), object(7), string(1)\n",
      "memory usage: 673.9+ MB\n"
     ]
    }
   ],
   "source": [
    "df2.info()"
   ]
  },
  {
   "cell_type": "code",
   "execution_count": 110,
   "metadata": {},
   "outputs": [
    {
     "data": {
      "text/html": [
       "<div>\n",
       "<style scoped>\n",
       "    .dataframe tbody tr th:only-of-type {\n",
       "        vertical-align: middle;\n",
       "    }\n",
       "\n",
       "    .dataframe tbody tr th {\n",
       "        vertical-align: top;\n",
       "    }\n",
       "\n",
       "    .dataframe thead th {\n",
       "        text-align: right;\n",
       "    }\n",
       "</style>\n",
       "<table border=\"1\" class=\"dataframe\">\n",
       "  <thead>\n",
       "    <tr style=\"text-align: right;\">\n",
       "      <th></th>\n",
       "      <th>vin</th>\n",
       "      <th>zip</th>\n",
       "      <th>make</th>\n",
       "      <th>model</th>\n",
       "      <th>my</th>\n",
       "      <th>purchase_date</th>\n",
       "      <th>Combination MPG</th>\n",
       "      <th>1st Test Date</th>\n",
       "      <th>2nd Test Date</th>\n",
       "      <th>1st Odometer</th>\n",
       "      <th>2nd Odometer</th>\n",
       "      <th>Date Difference (Days)</th>\n",
       "      <th>VMT</th>\n",
       "      <th>Fuel Used</th>\n",
       "      <th>Fuel_Type</th>\n",
       "      <th>zipcode</th>\n",
       "      <th>blkgrp</th>\n",
       "    </tr>\n",
       "  </thead>\n",
       "  <tbody>\n",
       "    <tr>\n",
       "      <th>0</th>\n",
       "      <td>WBAEV33452KL68783</td>\n",
       "      <td>60655</td>\n",
       "      <td>BMW</td>\n",
       "      <td>3 Series</td>\n",
       "      <td>2002</td>\n",
       "      <td>5/1/2021</td>\n",
       "      <td>21.0</td>\n",
       "      <td>2020-06-01</td>\n",
       "      <td>NaN</td>\n",
       "      <td>125000</td>\n",
       "      <td>NaN</td>\n",
       "      <td>NaN</td>\n",
       "      <td>NaN</td>\n",
       "      <td>NaN</td>\n",
       "      <td>Gasoline</td>\n",
       "      <td>606551055</td>\n",
       "      <td>1.703172e+11</td>\n",
       "    </tr>\n",
       "    <tr>\n",
       "      <th>1</th>\n",
       "      <td>1GBFG15R6Y1100200</td>\n",
       "      <td>60632</td>\n",
       "      <td>CHEV</td>\n",
       "      <td>Express Cargo</td>\n",
       "      <td>2000</td>\n",
       "      <td>5/21/2017</td>\n",
       "      <td>NaN</td>\n",
       "      <td>2020-06-01</td>\n",
       "      <td>2024-03-26</td>\n",
       "      <td>206000</td>\n",
       "      <td>213000.0</td>\n",
       "      <td>1394.0</td>\n",
       "      <td>7000.0</td>\n",
       "      <td>NaN</td>\n",
       "      <td>Gasoline</td>\n",
       "      <td>606321626</td>\n",
       "      <td>1.703158e+11</td>\n",
       "    </tr>\n",
       "    <tr>\n",
       "      <th>2</th>\n",
       "      <td>1GCDT136548185796</td>\n",
       "      <td>60501</td>\n",
       "      <td>CHEV</td>\n",
       "      <td>Colorado</td>\n",
       "      <td>2004</td>\n",
       "      <td>6/18/2013</td>\n",
       "      <td>18.0</td>\n",
       "      <td>2020-06-01</td>\n",
       "      <td>2020-06-04</td>\n",
       "      <td>109000</td>\n",
       "      <td>109000.0</td>\n",
       "      <td>3.0</td>\n",
       "      <td>0.0</td>\n",
       "      <td>0.0</td>\n",
       "      <td>Gasoline</td>\n",
       "      <td>605011310</td>\n",
       "      <td>1.703182e+11</td>\n",
       "    </tr>\n",
       "    <tr>\n",
       "      <th>3</th>\n",
       "      <td>2GKALMEK0C6364495</td>\n",
       "      <td>60453</td>\n",
       "      <td>GMC</td>\n",
       "      <td>Terrain</td>\n",
       "      <td>2012</td>\n",
       "      <td>4/26/2018</td>\n",
       "      <td>20.0</td>\n",
       "      <td>2020-06-01</td>\n",
       "      <td>2024-05-03</td>\n",
       "      <td>80000</td>\n",
       "      <td>100000.0</td>\n",
       "      <td>1432.0</td>\n",
       "      <td>20000.0</td>\n",
       "      <td>1000.0</td>\n",
       "      <td>Gasoline</td>\n",
       "      <td>604534400</td>\n",
       "      <td>1.703182e+11</td>\n",
       "    </tr>\n",
       "    <tr>\n",
       "      <th>4</th>\n",
       "      <td>1HGCG1652YA094701</td>\n",
       "      <td>60459</td>\n",
       "      <td>HOND</td>\n",
       "      <td>Accord</td>\n",
       "      <td>2000</td>\n",
       "      <td>7/19/2014</td>\n",
       "      <td>23.0</td>\n",
       "      <td>2020-06-01</td>\n",
       "      <td>NaN</td>\n",
       "      <td>167000</td>\n",
       "      <td>NaN</td>\n",
       "      <td>NaN</td>\n",
       "      <td>NaN</td>\n",
       "      <td>NaN</td>\n",
       "      <td>Gasoline</td>\n",
       "      <td>604591106</td>\n",
       "      <td>1.703182e+11</td>\n",
       "    </tr>\n",
       "  </tbody>\n",
       "</table>\n",
       "</div>"
      ],
      "text/plain": [
       "                 vin    zip  make          model    my purchase_date  \\\n",
       "0  WBAEV33452KL68783  60655  BMW        3 Series  2002      5/1/2021   \n",
       "1  1GBFG15R6Y1100200  60632  CHEV  Express Cargo  2000     5/21/2017   \n",
       "2  1GCDT136548185796  60501  CHEV       Colorado  2004     6/18/2013   \n",
       "3  2GKALMEK0C6364495  60453  GMC         Terrain  2012     4/26/2018   \n",
       "4  1HGCG1652YA094701  60459  HOND         Accord  2000     7/19/2014   \n",
       "\n",
       "   Combination MPG 1st Test Date 2nd Test Date  1st Odometer  2nd Odometer  \\\n",
       "0             21.0    2020-06-01           NaN        125000           NaN   \n",
       "1              NaN    2020-06-01    2024-03-26        206000      213000.0   \n",
       "2             18.0    2020-06-01    2020-06-04        109000      109000.0   \n",
       "3             20.0    2020-06-01    2024-05-03         80000      100000.0   \n",
       "4             23.0    2020-06-01           NaN        167000           NaN   \n",
       "\n",
       "   Date Difference (Days)      VMT  Fuel Used Fuel_Type    zipcode  \\\n",
       "0                     NaN      NaN        NaN  Gasoline  606551055   \n",
       "1                  1394.0   7000.0        NaN  Gasoline  606321626   \n",
       "2                     3.0      0.0        0.0  Gasoline  605011310   \n",
       "3                  1432.0  20000.0     1000.0  Gasoline  604534400   \n",
       "4                     NaN      NaN        NaN  Gasoline  604591106   \n",
       "\n",
       "         blkgrp  \n",
       "0  1.703172e+11  \n",
       "1  1.703158e+11  \n",
       "2  1.703182e+11  \n",
       "3  1.703182e+11  \n",
       "4  1.703182e+11  "
      ]
     },
     "execution_count": 110,
     "metadata": {},
     "output_type": "execute_result"
    }
   ],
   "source": [
    "df2.head()"
   ]
  },
  {
   "cell_type": "code",
   "execution_count": 111,
   "metadata": {},
   "outputs": [
    {
     "data": {
      "text/plain": [
       "vin                             0\n",
       "zip                             0\n",
       "make                            0\n",
       "model                           0\n",
       "my                              0\n",
       "purchase_date                   0\n",
       "Combination MPG            439998\n",
       "1st Test Date                   0\n",
       "2nd Test Date             2718298\n",
       "1st Odometer                    0\n",
       "2nd Odometer              2718298\n",
       "Date Difference (Days)    2718298\n",
       "VMT                       2718298\n",
       "Fuel Used                 2931452\n",
       "Fuel_Type                    9144\n",
       "zipcode                       273\n",
       "blkgrp                    1014717\n",
       "dtype: int64"
      ]
     },
     "execution_count": 111,
     "metadata": {},
     "output_type": "execute_result"
    }
   ],
   "source": [
    "df2.isnull().sum()"
   ]
  },
  {
   "cell_type": "code",
   "execution_count": 112,
   "metadata": {},
   "outputs": [
    {
     "data": {
      "text/plain": [
       "6288"
      ]
     },
     "execution_count": 112,
     "metadata": {},
     "output_type": "execute_result"
    }
   ],
   "source": [
    "df2['blkgrp'].nunique()"
   ]
  },
  {
   "cell_type": "markdown",
   "metadata": {},
   "source": [
    "# Part 4 - Add demographics data columns"
   ]
  },
  {
   "cell_type": "code",
   "execution_count": 114,
   "metadata": {},
   "outputs": [],
   "source": [
    "df4 = pd.read_csv(r\"C:\\Users\\Siddhant\\Downloads\\CBG_data_acs2022.csv\")"
   ]
  },
  {
   "cell_type": "code",
   "execution_count": 115,
   "metadata": {},
   "outputs": [
    {
     "data": {
      "text/html": [
       "<div>\n",
       "<style scoped>\n",
       "    .dataframe tbody tr th:only-of-type {\n",
       "        vertical-align: middle;\n",
       "    }\n",
       "\n",
       "    .dataframe tbody tr th {\n",
       "        vertical-align: top;\n",
       "    }\n",
       "\n",
       "    .dataframe thead th {\n",
       "        text-align: right;\n",
       "    }\n",
       "</style>\n",
       "<table border=\"1\" class=\"dataframe\">\n",
       "  <thead>\n",
       "    <tr style=\"text-align: right;\">\n",
       "      <th></th>\n",
       "      <th>geoid</th>\n",
       "      <th>population</th>\n",
       "      <th>households</th>\n",
       "      <th>median_income</th>\n",
       "      <th>housing_units</th>\n",
       "    </tr>\n",
       "  </thead>\n",
       "  <tbody>\n",
       "    <tr>\n",
       "      <th>0</th>\n",
       "      <td>170310101001</td>\n",
       "      <td>461</td>\n",
       "      <td>239</td>\n",
       "      <td>98575.0</td>\n",
       "      <td>256</td>\n",
       "    </tr>\n",
       "    <tr>\n",
       "      <th>1</th>\n",
       "      <td>170310101002</td>\n",
       "      <td>1715</td>\n",
       "      <td>856</td>\n",
       "      <td>25474.0</td>\n",
       "      <td>1133</td>\n",
       "    </tr>\n",
       "    <tr>\n",
       "      <th>2</th>\n",
       "      <td>170310101003</td>\n",
       "      <td>2108</td>\n",
       "      <td>1227</td>\n",
       "      <td>81917.0</td>\n",
       "      <td>1553</td>\n",
       "    </tr>\n",
       "    <tr>\n",
       "      <th>3</th>\n",
       "      <td>170310102011</td>\n",
       "      <td>2412</td>\n",
       "      <td>945</td>\n",
       "      <td>74563.0</td>\n",
       "      <td>945</td>\n",
       "    </tr>\n",
       "    <tr>\n",
       "      <th>4</th>\n",
       "      <td>170310102012</td>\n",
       "      <td>1621</td>\n",
       "      <td>578</td>\n",
       "      <td>43314.0</td>\n",
       "      <td>659</td>\n",
       "    </tr>\n",
       "  </tbody>\n",
       "</table>\n",
       "</div>"
      ],
      "text/plain": [
       "          geoid  population  households  median_income  housing_units\n",
       "0  170310101001         461         239        98575.0            256\n",
       "1  170310101002        1715         856        25474.0           1133\n",
       "2  170310101003        2108        1227        81917.0           1553\n",
       "3  170310102011        2412         945        74563.0            945\n",
       "4  170310102012        1621         578        43314.0            659"
      ]
     },
     "execution_count": 115,
     "metadata": {},
     "output_type": "execute_result"
    }
   ],
   "source": [
    "df4.head()"
   ]
  },
  {
   "cell_type": "code",
   "execution_count": 116,
   "metadata": {},
   "outputs": [
    {
     "name": "stdout",
     "output_type": "stream",
     "text": [
      "<class 'pandas.core.frame.DataFrame'>\n",
      "RangeIndex: 4002 entries, 0 to 4001\n",
      "Data columns (total 5 columns):\n",
      " #   Column         Non-Null Count  Dtype  \n",
      "---  ------         --------------  -----  \n",
      " 0   geoid          4002 non-null   int64  \n",
      " 1   population     4002 non-null   int64  \n",
      " 2   households     4002 non-null   int64  \n",
      " 3   median_income  3629 non-null   float64\n",
      " 4   housing_units  4002 non-null   int64  \n",
      "dtypes: float64(1), int64(4)\n",
      "memory usage: 156.5 KB\n"
     ]
    }
   ],
   "source": [
    "df4.info()"
   ]
  },
  {
   "cell_type": "code",
   "execution_count": 117,
   "metadata": {},
   "outputs": [],
   "source": [
    "df4['geoid'] = df4['geoid'].astype('string')"
   ]
  },
  {
   "cell_type": "code",
   "execution_count": 118,
   "metadata": {},
   "outputs": [
    {
     "data": {
      "text/plain": [
       "geoid              0\n",
       "population         0\n",
       "households         0\n",
       "median_income    373\n",
       "housing_units      0\n",
       "dtype: int64"
      ]
     },
     "execution_count": 118,
     "metadata": {},
     "output_type": "execute_result"
    }
   ],
   "source": [
    "df4.isnull().sum()"
   ]
  },
  {
   "cell_type": "code",
   "execution_count": 119,
   "metadata": {},
   "outputs": [
    {
     "data": {
      "text/html": [
       "<div>\n",
       "<style scoped>\n",
       "    .dataframe tbody tr th:only-of-type {\n",
       "        vertical-align: middle;\n",
       "    }\n",
       "\n",
       "    .dataframe tbody tr th {\n",
       "        vertical-align: top;\n",
       "    }\n",
       "\n",
       "    .dataframe thead th {\n",
       "        text-align: right;\n",
       "    }\n",
       "</style>\n",
       "<table border=\"1\" class=\"dataframe\">\n",
       "  <thead>\n",
       "    <tr style=\"text-align: right;\">\n",
       "      <th></th>\n",
       "      <th>geoid</th>\n",
       "      <th>population</th>\n",
       "      <th>households</th>\n",
       "      <th>median_income</th>\n",
       "      <th>housing_units</th>\n",
       "    </tr>\n",
       "  </thead>\n",
       "  <tbody>\n",
       "    <tr>\n",
       "      <th>0</th>\n",
       "      <td>170310101001</td>\n",
       "      <td>461</td>\n",
       "      <td>239</td>\n",
       "      <td>98575.0</td>\n",
       "      <td>256</td>\n",
       "    </tr>\n",
       "    <tr>\n",
       "      <th>1</th>\n",
       "      <td>170310101002</td>\n",
       "      <td>1715</td>\n",
       "      <td>856</td>\n",
       "      <td>25474.0</td>\n",
       "      <td>1133</td>\n",
       "    </tr>\n",
       "    <tr>\n",
       "      <th>2</th>\n",
       "      <td>170310101003</td>\n",
       "      <td>2108</td>\n",
       "      <td>1227</td>\n",
       "      <td>81917.0</td>\n",
       "      <td>1553</td>\n",
       "    </tr>\n",
       "    <tr>\n",
       "      <th>3</th>\n",
       "      <td>170310102011</td>\n",
       "      <td>2412</td>\n",
       "      <td>945</td>\n",
       "      <td>74563.0</td>\n",
       "      <td>945</td>\n",
       "    </tr>\n",
       "    <tr>\n",
       "      <th>4</th>\n",
       "      <td>170310102012</td>\n",
       "      <td>1621</td>\n",
       "      <td>578</td>\n",
       "      <td>43314.0</td>\n",
       "      <td>659</td>\n",
       "    </tr>\n",
       "  </tbody>\n",
       "</table>\n",
       "</div>"
      ],
      "text/plain": [
       "          geoid  population  households  median_income  housing_units\n",
       "0  170310101001         461         239        98575.0            256\n",
       "1  170310101002        1715         856        25474.0           1133\n",
       "2  170310101003        2108        1227        81917.0           1553\n",
       "3  170310102011        2412         945        74563.0            945\n",
       "4  170310102012        1621         578        43314.0            659"
      ]
     },
     "execution_count": 119,
     "metadata": {},
     "output_type": "execute_result"
    }
   ],
   "source": [
    "df4.head()"
   ]
  },
  {
   "cell_type": "code",
   "execution_count": 120,
   "metadata": {},
   "outputs": [],
   "source": [
    "df2['blkgrp'] = df2['blkgrp'].fillna(0).astype('int64')"
   ]
  },
  {
   "cell_type": "code",
   "execution_count": 121,
   "metadata": {},
   "outputs": [],
   "source": [
    "df2['blkgrp'] = df2['blkgrp'].astype('string')"
   ]
  },
  {
   "cell_type": "code",
   "execution_count": 122,
   "metadata": {},
   "outputs": [
    {
     "data": {
      "text/html": [
       "<div>\n",
       "<style scoped>\n",
       "    .dataframe tbody tr th:only-of-type {\n",
       "        vertical-align: middle;\n",
       "    }\n",
       "\n",
       "    .dataframe tbody tr th {\n",
       "        vertical-align: top;\n",
       "    }\n",
       "\n",
       "    .dataframe thead th {\n",
       "        text-align: right;\n",
       "    }\n",
       "</style>\n",
       "<table border=\"1\" class=\"dataframe\">\n",
       "  <thead>\n",
       "    <tr style=\"text-align: right;\">\n",
       "      <th></th>\n",
       "      <th>vin</th>\n",
       "      <th>zip</th>\n",
       "      <th>make</th>\n",
       "      <th>model</th>\n",
       "      <th>my</th>\n",
       "      <th>purchase_date</th>\n",
       "      <th>Combination MPG</th>\n",
       "      <th>1st Test Date</th>\n",
       "      <th>2nd Test Date</th>\n",
       "      <th>1st Odometer</th>\n",
       "      <th>2nd Odometer</th>\n",
       "      <th>Date Difference (Days)</th>\n",
       "      <th>VMT</th>\n",
       "      <th>Fuel Used</th>\n",
       "      <th>Fuel_Type</th>\n",
       "      <th>zipcode</th>\n",
       "      <th>blkgrp</th>\n",
       "    </tr>\n",
       "  </thead>\n",
       "  <tbody>\n",
       "    <tr>\n",
       "      <th>0</th>\n",
       "      <td>WBAEV33452KL68783</td>\n",
       "      <td>60655</td>\n",
       "      <td>BMW</td>\n",
       "      <td>3 Series</td>\n",
       "      <td>2002</td>\n",
       "      <td>5/1/2021</td>\n",
       "      <td>21.0</td>\n",
       "      <td>2020-06-01</td>\n",
       "      <td>NaN</td>\n",
       "      <td>125000</td>\n",
       "      <td>NaN</td>\n",
       "      <td>NaN</td>\n",
       "      <td>NaN</td>\n",
       "      <td>NaN</td>\n",
       "      <td>Gasoline</td>\n",
       "      <td>606551055</td>\n",
       "      <td>170317204001</td>\n",
       "    </tr>\n",
       "    <tr>\n",
       "      <th>1</th>\n",
       "      <td>1GBFG15R6Y1100200</td>\n",
       "      <td>60632</td>\n",
       "      <td>CHEV</td>\n",
       "      <td>Express Cargo</td>\n",
       "      <td>2000</td>\n",
       "      <td>5/21/2017</td>\n",
       "      <td>NaN</td>\n",
       "      <td>2020-06-01</td>\n",
       "      <td>2024-03-26</td>\n",
       "      <td>206000</td>\n",
       "      <td>213000.0</td>\n",
       "      <td>1394.0</td>\n",
       "      <td>7000.0</td>\n",
       "      <td>NaN</td>\n",
       "      <td>Gasoline</td>\n",
       "      <td>606321626</td>\n",
       "      <td>170315801002</td>\n",
       "    </tr>\n",
       "    <tr>\n",
       "      <th>2</th>\n",
       "      <td>1GCDT136548185796</td>\n",
       "      <td>60501</td>\n",
       "      <td>CHEV</td>\n",
       "      <td>Colorado</td>\n",
       "      <td>2004</td>\n",
       "      <td>6/18/2013</td>\n",
       "      <td>18.0</td>\n",
       "      <td>2020-06-01</td>\n",
       "      <td>2020-06-04</td>\n",
       "      <td>109000</td>\n",
       "      <td>109000.0</td>\n",
       "      <td>3.0</td>\n",
       "      <td>0.0</td>\n",
       "      <td>0.0</td>\n",
       "      <td>Gasoline</td>\n",
       "      <td>605011310</td>\n",
       "      <td>170318203004</td>\n",
       "    </tr>\n",
       "    <tr>\n",
       "      <th>3</th>\n",
       "      <td>2GKALMEK0C6364495</td>\n",
       "      <td>60453</td>\n",
       "      <td>GMC</td>\n",
       "      <td>Terrain</td>\n",
       "      <td>2012</td>\n",
       "      <td>4/26/2018</td>\n",
       "      <td>20.0</td>\n",
       "      <td>2020-06-01</td>\n",
       "      <td>2024-05-03</td>\n",
       "      <td>80000</td>\n",
       "      <td>100000.0</td>\n",
       "      <td>1432.0</td>\n",
       "      <td>20000.0</td>\n",
       "      <td>1000.0</td>\n",
       "      <td>Gasoline</td>\n",
       "      <td>604534400</td>\n",
       "      <td>170318226013</td>\n",
       "    </tr>\n",
       "    <tr>\n",
       "      <th>4</th>\n",
       "      <td>1HGCG1652YA094701</td>\n",
       "      <td>60459</td>\n",
       "      <td>HOND</td>\n",
       "      <td>Accord</td>\n",
       "      <td>2000</td>\n",
       "      <td>7/19/2014</td>\n",
       "      <td>23.0</td>\n",
       "      <td>2020-06-01</td>\n",
       "      <td>NaN</td>\n",
       "      <td>167000</td>\n",
       "      <td>NaN</td>\n",
       "      <td>NaN</td>\n",
       "      <td>NaN</td>\n",
       "      <td>NaN</td>\n",
       "      <td>Gasoline</td>\n",
       "      <td>604591106</td>\n",
       "      <td>170318209013</td>\n",
       "    </tr>\n",
       "  </tbody>\n",
       "</table>\n",
       "</div>"
      ],
      "text/plain": [
       "                 vin    zip  make          model    my purchase_date  \\\n",
       "0  WBAEV33452KL68783  60655  BMW        3 Series  2002      5/1/2021   \n",
       "1  1GBFG15R6Y1100200  60632  CHEV  Express Cargo  2000     5/21/2017   \n",
       "2  1GCDT136548185796  60501  CHEV       Colorado  2004     6/18/2013   \n",
       "3  2GKALMEK0C6364495  60453  GMC         Terrain  2012     4/26/2018   \n",
       "4  1HGCG1652YA094701  60459  HOND         Accord  2000     7/19/2014   \n",
       "\n",
       "   Combination MPG 1st Test Date 2nd Test Date  1st Odometer  2nd Odometer  \\\n",
       "0             21.0    2020-06-01           NaN        125000           NaN   \n",
       "1              NaN    2020-06-01    2024-03-26        206000      213000.0   \n",
       "2             18.0    2020-06-01    2020-06-04        109000      109000.0   \n",
       "3             20.0    2020-06-01    2024-05-03         80000      100000.0   \n",
       "4             23.0    2020-06-01           NaN        167000           NaN   \n",
       "\n",
       "   Date Difference (Days)      VMT  Fuel Used Fuel_Type    zipcode  \\\n",
       "0                     NaN      NaN        NaN  Gasoline  606551055   \n",
       "1                  1394.0   7000.0        NaN  Gasoline  606321626   \n",
       "2                     3.0      0.0        0.0  Gasoline  605011310   \n",
       "3                  1432.0  20000.0     1000.0  Gasoline  604534400   \n",
       "4                     NaN      NaN        NaN  Gasoline  604591106   \n",
       "\n",
       "         blkgrp  \n",
       "0  170317204001  \n",
       "1  170315801002  \n",
       "2  170318203004  \n",
       "3  170318226013  \n",
       "4  170318209013  "
      ]
     },
     "execution_count": 122,
     "metadata": {},
     "output_type": "execute_result"
    }
   ],
   "source": [
    "df2.head()"
   ]
  },
  {
   "cell_type": "code",
   "execution_count": 123,
   "metadata": {},
   "outputs": [
    {
     "name": "stdout",
     "output_type": "stream",
     "text": [
      "Number of unique values in 'blkgrp': 6289\n"
     ]
    }
   ],
   "source": [
    "unique_count = df2['blkgrp'].nunique()\n",
    "\n",
    "print(f\"Number of unique values in 'blkgrp': {unique_count}\")"
   ]
  },
  {
   "cell_type": "code",
   "execution_count": 124,
   "metadata": {},
   "outputs": [
    {
     "name": "stdout",
     "output_type": "stream",
     "text": [
      "Number of unique values in 'geoid': 4002\n"
     ]
    }
   ],
   "source": [
    "unique_count = df4['geoid'].nunique()\n",
    "\n",
    "print(f\"Number of unique values in 'geoid': {unique_count}\")"
   ]
  },
  {
   "cell_type": "code",
   "execution_count": 125,
   "metadata": {},
   "outputs": [
    {
     "name": "stdout",
     "output_type": "stream",
     "text": [
      "Number of common values: 3993\n"
     ]
    }
   ],
   "source": [
    "df_unique = pd.DataFrame(df2['blkgrp'].unique(), columns=['blkgrp'])\n",
    "\n",
    "common_values_count = df_unique['blkgrp'].isin(df4['geoid']).sum()\n",
    "\n",
    "print(f\"Number of common values: {common_values_count}\")"
   ]
  },
  {
   "cell_type": "code",
   "execution_count": 126,
   "metadata": {},
   "outputs": [],
   "source": [
    "df2 = df2.merge(df4, left_on='blkgrp', right_on='geoid', how='left')"
   ]
  },
  {
   "cell_type": "code",
   "execution_count": 127,
   "metadata": {},
   "outputs": [],
   "source": [
    "df2.drop('geoid', axis=1, inplace=True)"
   ]
  },
  {
   "cell_type": "code",
   "execution_count": 128,
   "metadata": {},
   "outputs": [
    {
     "data": {
      "text/html": [
       "<div>\n",
       "<style scoped>\n",
       "    .dataframe tbody tr th:only-of-type {\n",
       "        vertical-align: middle;\n",
       "    }\n",
       "\n",
       "    .dataframe tbody tr th {\n",
       "        vertical-align: top;\n",
       "    }\n",
       "\n",
       "    .dataframe thead th {\n",
       "        text-align: right;\n",
       "    }\n",
       "</style>\n",
       "<table border=\"1\" class=\"dataframe\">\n",
       "  <thead>\n",
       "    <tr style=\"text-align: right;\">\n",
       "      <th></th>\n",
       "      <th>vin</th>\n",
       "      <th>zip</th>\n",
       "      <th>make</th>\n",
       "      <th>model</th>\n",
       "      <th>my</th>\n",
       "      <th>purchase_date</th>\n",
       "      <th>Combination MPG</th>\n",
       "      <th>1st Test Date</th>\n",
       "      <th>2nd Test Date</th>\n",
       "      <th>1st Odometer</th>\n",
       "      <th>...</th>\n",
       "      <th>Date Difference (Days)</th>\n",
       "      <th>VMT</th>\n",
       "      <th>Fuel Used</th>\n",
       "      <th>Fuel_Type</th>\n",
       "      <th>zipcode</th>\n",
       "      <th>blkgrp</th>\n",
       "      <th>population</th>\n",
       "      <th>households</th>\n",
       "      <th>median_income</th>\n",
       "      <th>housing_units</th>\n",
       "    </tr>\n",
       "  </thead>\n",
       "  <tbody>\n",
       "    <tr>\n",
       "      <th>0</th>\n",
       "      <td>WBAEV33452KL68783</td>\n",
       "      <td>60655</td>\n",
       "      <td>BMW</td>\n",
       "      <td>3 Series</td>\n",
       "      <td>2002</td>\n",
       "      <td>5/1/2021</td>\n",
       "      <td>21.0</td>\n",
       "      <td>2020-06-01</td>\n",
       "      <td>NaN</td>\n",
       "      <td>125000</td>\n",
       "      <td>...</td>\n",
       "      <td>NaN</td>\n",
       "      <td>NaN</td>\n",
       "      <td>NaN</td>\n",
       "      <td>Gasoline</td>\n",
       "      <td>606551055</td>\n",
       "      <td>170317204001</td>\n",
       "      <td>776.0</td>\n",
       "      <td>291.0</td>\n",
       "      <td>158859.0</td>\n",
       "      <td>309.0</td>\n",
       "    </tr>\n",
       "    <tr>\n",
       "      <th>1</th>\n",
       "      <td>1GBFG15R6Y1100200</td>\n",
       "      <td>60632</td>\n",
       "      <td>CHEV</td>\n",
       "      <td>Express Cargo</td>\n",
       "      <td>2000</td>\n",
       "      <td>5/21/2017</td>\n",
       "      <td>NaN</td>\n",
       "      <td>2020-06-01</td>\n",
       "      <td>2024-03-26</td>\n",
       "      <td>206000</td>\n",
       "      <td>...</td>\n",
       "      <td>1394.0</td>\n",
       "      <td>7000.0</td>\n",
       "      <td>NaN</td>\n",
       "      <td>Gasoline</td>\n",
       "      <td>606321626</td>\n",
       "      <td>170315801002</td>\n",
       "      <td>1097.0</td>\n",
       "      <td>422.0</td>\n",
       "      <td>47778.0</td>\n",
       "      <td>494.0</td>\n",
       "    </tr>\n",
       "    <tr>\n",
       "      <th>2</th>\n",
       "      <td>1GCDT136548185796</td>\n",
       "      <td>60501</td>\n",
       "      <td>CHEV</td>\n",
       "      <td>Colorado</td>\n",
       "      <td>2004</td>\n",
       "      <td>6/18/2013</td>\n",
       "      <td>18.0</td>\n",
       "      <td>2020-06-01</td>\n",
       "      <td>2020-06-04</td>\n",
       "      <td>109000</td>\n",
       "      <td>...</td>\n",
       "      <td>3.0</td>\n",
       "      <td>0.0</td>\n",
       "      <td>0.0</td>\n",
       "      <td>Gasoline</td>\n",
       "      <td>605011310</td>\n",
       "      <td>170318203004</td>\n",
       "      <td>987.0</td>\n",
       "      <td>307.0</td>\n",
       "      <td>46047.0</td>\n",
       "      <td>366.0</td>\n",
       "    </tr>\n",
       "    <tr>\n",
       "      <th>3</th>\n",
       "      <td>2GKALMEK0C6364495</td>\n",
       "      <td>60453</td>\n",
       "      <td>GMC</td>\n",
       "      <td>Terrain</td>\n",
       "      <td>2012</td>\n",
       "      <td>4/26/2018</td>\n",
       "      <td>20.0</td>\n",
       "      <td>2020-06-01</td>\n",
       "      <td>2024-05-03</td>\n",
       "      <td>80000</td>\n",
       "      <td>...</td>\n",
       "      <td>1432.0</td>\n",
       "      <td>20000.0</td>\n",
       "      <td>1000.0</td>\n",
       "      <td>Gasoline</td>\n",
       "      <td>604534400</td>\n",
       "      <td>170318226013</td>\n",
       "      <td>520.0</td>\n",
       "      <td>278.0</td>\n",
       "      <td>61786.0</td>\n",
       "      <td>278.0</td>\n",
       "    </tr>\n",
       "    <tr>\n",
       "      <th>4</th>\n",
       "      <td>1HGCG1652YA094701</td>\n",
       "      <td>60459</td>\n",
       "      <td>HOND</td>\n",
       "      <td>Accord</td>\n",
       "      <td>2000</td>\n",
       "      <td>7/19/2014</td>\n",
       "      <td>23.0</td>\n",
       "      <td>2020-06-01</td>\n",
       "      <td>NaN</td>\n",
       "      <td>167000</td>\n",
       "      <td>...</td>\n",
       "      <td>NaN</td>\n",
       "      <td>NaN</td>\n",
       "      <td>NaN</td>\n",
       "      <td>Gasoline</td>\n",
       "      <td>604591106</td>\n",
       "      <td>170318209013</td>\n",
       "      <td>750.0</td>\n",
       "      <td>235.0</td>\n",
       "      <td>91036.0</td>\n",
       "      <td>235.0</td>\n",
       "    </tr>\n",
       "  </tbody>\n",
       "</table>\n",
       "<p>5 rows × 21 columns</p>\n",
       "</div>"
      ],
      "text/plain": [
       "                 vin    zip  make          model    my purchase_date  \\\n",
       "0  WBAEV33452KL68783  60655  BMW        3 Series  2002      5/1/2021   \n",
       "1  1GBFG15R6Y1100200  60632  CHEV  Express Cargo  2000     5/21/2017   \n",
       "2  1GCDT136548185796  60501  CHEV       Colorado  2004     6/18/2013   \n",
       "3  2GKALMEK0C6364495  60453  GMC         Terrain  2012     4/26/2018   \n",
       "4  1HGCG1652YA094701  60459  HOND         Accord  2000     7/19/2014   \n",
       "\n",
       "   Combination MPG 1st Test Date 2nd Test Date  1st Odometer  ...  \\\n",
       "0             21.0    2020-06-01           NaN        125000  ...   \n",
       "1              NaN    2020-06-01    2024-03-26        206000  ...   \n",
       "2             18.0    2020-06-01    2020-06-04        109000  ...   \n",
       "3             20.0    2020-06-01    2024-05-03         80000  ...   \n",
       "4             23.0    2020-06-01           NaN        167000  ...   \n",
       "\n",
       "   Date Difference (Days)      VMT  Fuel Used  Fuel_Type    zipcode  \\\n",
       "0                     NaN      NaN        NaN   Gasoline  606551055   \n",
       "1                  1394.0   7000.0        NaN   Gasoline  606321626   \n",
       "2                     3.0      0.0        0.0   Gasoline  605011310   \n",
       "3                  1432.0  20000.0     1000.0   Gasoline  604534400   \n",
       "4                     NaN      NaN        NaN   Gasoline  604591106   \n",
       "\n",
       "         blkgrp population  households  median_income  housing_units  \n",
       "0  170317204001      776.0       291.0       158859.0          309.0  \n",
       "1  170315801002     1097.0       422.0        47778.0          494.0  \n",
       "2  170318203004      987.0       307.0        46047.0          366.0  \n",
       "3  170318226013      520.0       278.0        61786.0          278.0  \n",
       "4  170318209013      750.0       235.0        91036.0          235.0  \n",
       "\n",
       "[5 rows x 21 columns]"
      ]
     },
     "execution_count": 128,
     "metadata": {},
     "output_type": "execute_result"
    }
   ],
   "source": [
    "df2.head()"
   ]
  },
  {
   "cell_type": "code",
   "execution_count": 129,
   "metadata": {},
   "outputs": [
    {
     "data": {
      "text/plain": [
       "vin                             0\n",
       "zip                             0\n",
       "make                            0\n",
       "model                           0\n",
       "my                              0\n",
       "purchase_date                   0\n",
       "Combination MPG            439998\n",
       "1st Test Date                   0\n",
       "2nd Test Date             2718298\n",
       "1st Odometer                    0\n",
       "2nd Odometer              2718298\n",
       "Date Difference (Days)    2718298\n",
       "VMT                       2718298\n",
       "Fuel Used                 2931452\n",
       "Fuel_Type                    9144\n",
       "zipcode                       273\n",
       "blkgrp                          0\n",
       "population                2960182\n",
       "households                2960182\n",
       "median_income             3101037\n",
       "housing_units             2960182\n",
       "dtype: int64"
      ]
     },
     "execution_count": 129,
     "metadata": {},
     "output_type": "execute_result"
    }
   ],
   "source": [
    "df2.isnull().sum()"
   ]
  },
  {
   "cell_type": "markdown",
   "metadata": {},
   "source": [
    "# Save the dataset"
   ]
  },
  {
   "cell_type": "code",
   "execution_count": 130,
   "metadata": {},
   "outputs": [
    {
     "name": "stderr",
     "output_type": "stream",
     "text": [
      "<>:1: SyntaxWarning: invalid escape sequence '\\I'\n",
      "<>:1: SyntaxWarning: invalid escape sequence '\\I'\n",
      "C:\\Users\\Siddhant\\AppData\\Local\\Temp\\ipykernel_11724\\3427242597.py:1: SyntaxWarning: invalid escape sequence '\\I'\n",
      "  df2.to_csv(\"E:\\IIT Chicago\\Sem 4\\Data Science Practicum - CSP-572\\Datasets\\Odometer Data\\dataset_emissions_demographic_corrected.csv\", index=False)\n"
     ]
    }
   ],
   "source": [
    "df2.to_csv(\"E:\\IIT Chicago\\Sem 4\\Data Science Practicum - CSP-572\\Datasets\\Odometer Data\\dataset_emissions_demographic_corrected.csv\", index=False)"
   ]
  }
 ],
 "metadata": {
  "kernelspec": {
   "display_name": "DPA_Project",
   "language": "python",
   "name": "python3"
  },
  "language_info": {
   "codemirror_mode": {
    "name": "ipython",
    "version": 3
   },
   "file_extension": ".py",
   "mimetype": "text/x-python",
   "name": "python",
   "nbconvert_exporter": "python",
   "pygments_lexer": "ipython3",
   "version": "3.13.0"
  }
 },
 "nbformat": 4,
 "nbformat_minor": 2
}
