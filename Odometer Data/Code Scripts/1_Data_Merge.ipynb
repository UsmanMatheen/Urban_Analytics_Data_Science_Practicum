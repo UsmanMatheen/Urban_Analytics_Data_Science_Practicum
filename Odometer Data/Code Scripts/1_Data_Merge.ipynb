{
 "cells": [
  {
   "cell_type": "code",
   "execution_count": 2,
   "metadata": {},
   "outputs": [],
   "source": [
    "import pandas as pd\n",
    "import os"
   ]
  },
  {
   "cell_type": "code",
   "execution_count": 4,
   "metadata": {},
   "outputs": [],
   "source": [
    "\n",
    "# Specify the folder where your CSV files are located\n",
    "folder_path = r\"E:\\IIT Chicago\\Sem 4\\Data Science Practicum - CSP-572\\Datasets\\Odometer Data\\New folder\"\n",
    "\n",
    "# Get a list of all CSV files in the folder\n",
    "csv_files = [f for f in os.listdir(folder_path) if f.endswith('.csv')]\n",
    "\n",
    "# Initialize an empty list to store the DataFrames\n",
    "dfs = []\n",
    "\n",
    "# Loop through each CSV file and read it\n",
    "for file in csv_files:\n",
    "    file_path = os.path.join(folder_path, file)\n",
    "    df = pd.read_csv(file_path)\n",
    "    dfs.append(df)\n",
    "\n",
    "# Merge all the DataFrames into one\n",
    "merged_df = pd.concat(dfs, ignore_index=True)"
   ]
  },
  {
   "cell_type": "code",
   "execution_count": 5,
   "metadata": {},
   "outputs": [
    {
     "name": "stderr",
     "output_type": "stream",
     "text": [
      "<>:2: SyntaxWarning: invalid escape sequence '\\I'\n",
      "<>:2: SyntaxWarning: invalid escape sequence '\\I'\n",
      "C:\\Users\\Siddhant\\AppData\\Local\\Temp\\ipykernel_5776\\1864662848.py:2: SyntaxWarning: invalid escape sequence '\\I'\n",
      "  merged_df.to_csv(\"E:\\IIT Chicago\\Sem 4\\Data Science Practicum - CSP-572\\Datasets\\Odometer Data\\merged_data.csv\", index=False)\n"
     ]
    }
   ],
   "source": [
    "# Save the merged DataFrame to a new CSV file\n",
    "merged_df.to_csv(\"E:\\IIT Chicago\\Sem 4\\Data Science Practicum - CSP-572\\Datasets\\Odometer Data\\merged_data.csv\", index=False)"
   ]
  }
 ],
 "metadata": {
  "kernelspec": {
   "display_name": "DPA_Project",
   "language": "python",
   "name": "python3"
  },
  "language_info": {
   "codemirror_mode": {
    "name": "ipython",
    "version": 3
   },
   "file_extension": ".py",
   "mimetype": "text/x-python",
   "name": "python",
   "nbconvert_exporter": "python",
   "pygments_lexer": "ipython3",
   "version": "3.13.0"
  }
 },
 "nbformat": 4,
 "nbformat_minor": 2
}
