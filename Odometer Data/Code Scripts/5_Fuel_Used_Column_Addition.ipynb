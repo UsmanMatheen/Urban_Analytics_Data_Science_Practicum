{
 "cells": [
  {
   "cell_type": "code",
   "execution_count": 1,
   "metadata": {},
   "outputs": [],
   "source": [
    "import pandas as pd"
   ]
  },
  {
   "cell_type": "code",
   "execution_count": 2,
   "metadata": {},
   "outputs": [],
   "source": [
    "df1 = pd.read_csv(r\"C:\\Users\\Siddhant\\Downloads\\New_merged_data.csv\")"
   ]
  },
  {
   "cell_type": "code",
   "execution_count": 3,
   "metadata": {},
   "outputs": [],
   "source": [
    "df2 = pd.read_csv(r\"C:\\Users\\Siddhant\\Downloads\\Zip+4 - Census Crosswalk\\zip_to_blockgrp.csv\")"
   ]
  },
  {
   "cell_type": "markdown",
   "metadata": {},
   "source": [
    "# 1. Explore df1"
   ]
  },
  {
   "cell_type": "code",
   "execution_count": 4,
   "metadata": {},
   "outputs": [
    {
     "data": {
      "text/html": [
       "<div>\n",
       "<style scoped>\n",
       "    .dataframe tbody tr th:only-of-type {\n",
       "        vertical-align: middle;\n",
       "    }\n",
       "\n",
       "    .dataframe tbody tr th {\n",
       "        vertical-align: top;\n",
       "    }\n",
       "\n",
       "    .dataframe thead th {\n",
       "        text-align: right;\n",
       "    }\n",
       "</style>\n",
       "<table border=\"1\" class=\"dataframe\">\n",
       "  <thead>\n",
       "    <tr style=\"text-align: right;\">\n",
       "      <th></th>\n",
       "      <th>vin</th>\n",
       "      <th>zipcode</th>\n",
       "      <th>make</th>\n",
       "      <th>model</th>\n",
       "      <th>my</th>\n",
       "      <th>purchase_date</th>\n",
       "      <th>Combination MPG</th>\n",
       "      <th>1st Test Date</th>\n",
       "      <th>2nd Test Date</th>\n",
       "      <th>1st Odometer</th>\n",
       "      <th>2nd Odometer</th>\n",
       "      <th>Date Difference (Days)</th>\n",
       "      <th>Odometer Difference</th>\n",
       "    </tr>\n",
       "  </thead>\n",
       "  <tbody>\n",
       "    <tr>\n",
       "      <th>0</th>\n",
       "      <td>WBAEV33452KL68783</td>\n",
       "      <td>60655</td>\n",
       "      <td>BMW</td>\n",
       "      <td>3 Series</td>\n",
       "      <td>2002</td>\n",
       "      <td>5/1/2021</td>\n",
       "      <td>21</td>\n",
       "      <td>2020-06-01</td>\n",
       "      <td>NaN</td>\n",
       "      <td>125000</td>\n",
       "      <td>NaN</td>\n",
       "      <td>NaN</td>\n",
       "      <td>NaN</td>\n",
       "    </tr>\n",
       "    <tr>\n",
       "      <th>1</th>\n",
       "      <td>1GBFG15R6Y1100200</td>\n",
       "      <td>60632</td>\n",
       "      <td>CHEV</td>\n",
       "      <td>Express Cargo</td>\n",
       "      <td>2000</td>\n",
       "      <td>5/21/2017</td>\n",
       "      <td>No data found</td>\n",
       "      <td>2020-06-01</td>\n",
       "      <td>2024-03-26</td>\n",
       "      <td>206000</td>\n",
       "      <td>213000.0</td>\n",
       "      <td>1394.0</td>\n",
       "      <td>7000.0</td>\n",
       "    </tr>\n",
       "    <tr>\n",
       "      <th>2</th>\n",
       "      <td>1GCDT136548185796</td>\n",
       "      <td>60501</td>\n",
       "      <td>CHEV</td>\n",
       "      <td>Colorado</td>\n",
       "      <td>2004</td>\n",
       "      <td>6/18/2013</td>\n",
       "      <td>18</td>\n",
       "      <td>2020-06-01</td>\n",
       "      <td>2020-06-04</td>\n",
       "      <td>109000</td>\n",
       "      <td>109000.0</td>\n",
       "      <td>3.0</td>\n",
       "      <td>0.0</td>\n",
       "    </tr>\n",
       "    <tr>\n",
       "      <th>3</th>\n",
       "      <td>2GKALMEK0C6364495</td>\n",
       "      <td>60453</td>\n",
       "      <td>GMC</td>\n",
       "      <td>Terrain</td>\n",
       "      <td>2012</td>\n",
       "      <td>4/26/2018</td>\n",
       "      <td>20</td>\n",
       "      <td>2020-06-01</td>\n",
       "      <td>2024-05-03</td>\n",
       "      <td>80000</td>\n",
       "      <td>100000.0</td>\n",
       "      <td>1432.0</td>\n",
       "      <td>20000.0</td>\n",
       "    </tr>\n",
       "    <tr>\n",
       "      <th>4</th>\n",
       "      <td>1HGCG1652YA094701</td>\n",
       "      <td>60459</td>\n",
       "      <td>HOND</td>\n",
       "      <td>Accord</td>\n",
       "      <td>2000</td>\n",
       "      <td>7/19/2014</td>\n",
       "      <td>23</td>\n",
       "      <td>2020-06-01</td>\n",
       "      <td>NaN</td>\n",
       "      <td>167000</td>\n",
       "      <td>NaN</td>\n",
       "      <td>NaN</td>\n",
       "      <td>NaN</td>\n",
       "    </tr>\n",
       "  </tbody>\n",
       "</table>\n",
       "</div>"
      ],
      "text/plain": [
       "                 vin  zipcode  make          model    my purchase_date  \\\n",
       "0  WBAEV33452KL68783    60655  BMW        3 Series  2002      5/1/2021   \n",
       "1  1GBFG15R6Y1100200    60632  CHEV  Express Cargo  2000     5/21/2017   \n",
       "2  1GCDT136548185796    60501  CHEV       Colorado  2004     6/18/2013   \n",
       "3  2GKALMEK0C6364495    60453  GMC         Terrain  2012     4/26/2018   \n",
       "4  1HGCG1652YA094701    60459  HOND         Accord  2000     7/19/2014   \n",
       "\n",
       "  Combination MPG 1st Test Date 2nd Test Date  1st Odometer  2nd Odometer  \\\n",
       "0              21    2020-06-01           NaN        125000           NaN   \n",
       "1   No data found    2020-06-01    2024-03-26        206000      213000.0   \n",
       "2              18    2020-06-01    2020-06-04        109000      109000.0   \n",
       "3              20    2020-06-01    2024-05-03         80000      100000.0   \n",
       "4              23    2020-06-01           NaN        167000           NaN   \n",
       "\n",
       "   Date Difference (Days)  Odometer Difference  \n",
       "0                     NaN                  NaN  \n",
       "1                  1394.0               7000.0  \n",
       "2                     3.0                  0.0  \n",
       "3                  1432.0              20000.0  \n",
       "4                     NaN                  NaN  "
      ]
     },
     "execution_count": 4,
     "metadata": {},
     "output_type": "execute_result"
    }
   ],
   "source": [
    "df1.head()"
   ]
  },
  {
   "cell_type": "code",
   "execution_count": 5,
   "metadata": {},
   "outputs": [
    {
     "data": {
      "text/plain": [
       "vin                             0\n",
       "zipcode                         0\n",
       "make                            0\n",
       "model                           0\n",
       "my                              0\n",
       "purchase_date                   0\n",
       "Combination MPG              1294\n",
       "1st Test Date                   0\n",
       "2nd Test Date             2718298\n",
       "1st Odometer                    0\n",
       "2nd Odometer              2718298\n",
       "Date Difference (Days)    2718298\n",
       "Odometer Difference       2718298\n",
       "dtype: int64"
      ]
     },
     "execution_count": 5,
     "metadata": {},
     "output_type": "execute_result"
    }
   ],
   "source": [
    "df1.isnull().sum()"
   ]
  },
  {
   "cell_type": "code",
   "execution_count": 6,
   "metadata": {},
   "outputs": [
    {
     "name": "stdout",
     "output_type": "stream",
     "text": [
      "<class 'pandas.core.frame.DataFrame'>\n",
      "RangeIndex: 5195673 entries, 0 to 5195672\n",
      "Data columns (total 13 columns):\n",
      " #   Column                  Dtype  \n",
      "---  ------                  -----  \n",
      " 0   vin                     object \n",
      " 1   zipcode                 int64  \n",
      " 2   make                    object \n",
      " 3   model                   object \n",
      " 4   my                      int64  \n",
      " 5   purchase_date           object \n",
      " 6   Combination MPG         object \n",
      " 7   1st Test Date           object \n",
      " 8   2nd Test Date           object \n",
      " 9   1st Odometer            int64  \n",
      " 10  2nd Odometer            float64\n",
      " 11  Date Difference (Days)  float64\n",
      " 12  Odometer Difference     float64\n",
      "dtypes: float64(3), int64(3), object(7)\n",
      "memory usage: 515.3+ MB\n"
     ]
    }
   ],
   "source": [
    "df1.info()"
   ]
  },
  {
   "cell_type": "markdown",
   "metadata": {},
   "source": [
    "# 2. Create column 'Fuel Used'"
   ]
  },
  {
   "cell_type": "code",
   "execution_count": 25,
   "metadata": {},
   "outputs": [],
   "source": [
    "df1['Combination MPG'] = pd.to_numeric(df1['Combination MPG'], errors='coerce')"
   ]
  },
  {
   "cell_type": "code",
   "execution_count": 26,
   "metadata": {},
   "outputs": [],
   "source": [
    "df1['Fuel Used'] = df1['Odometer Difference'] / df1['Combination MPG']"
   ]
  },
  {
   "cell_type": "code",
   "execution_count": 27,
   "metadata": {},
   "outputs": [
    {
     "data": {
      "text/html": [
       "<div>\n",
       "<style scoped>\n",
       "    .dataframe tbody tr th:only-of-type {\n",
       "        vertical-align: middle;\n",
       "    }\n",
       "\n",
       "    .dataframe tbody tr th {\n",
       "        vertical-align: top;\n",
       "    }\n",
       "\n",
       "    .dataframe thead th {\n",
       "        text-align: right;\n",
       "    }\n",
       "</style>\n",
       "<table border=\"1\" class=\"dataframe\">\n",
       "  <thead>\n",
       "    <tr style=\"text-align: right;\">\n",
       "      <th></th>\n",
       "      <th>Combination MPG</th>\n",
       "      <th>Odometer Difference</th>\n",
       "      <th>Fuel Used</th>\n",
       "    </tr>\n",
       "  </thead>\n",
       "  <tbody>\n",
       "    <tr>\n",
       "      <th>0</th>\n",
       "      <td>21.0</td>\n",
       "      <td>NaN</td>\n",
       "      <td>NaN</td>\n",
       "    </tr>\n",
       "    <tr>\n",
       "      <th>1</th>\n",
       "      <td>NaN</td>\n",
       "      <td>7000.0</td>\n",
       "      <td>NaN</td>\n",
       "    </tr>\n",
       "    <tr>\n",
       "      <th>2</th>\n",
       "      <td>18.0</td>\n",
       "      <td>0.0</td>\n",
       "      <td>0.0</td>\n",
       "    </tr>\n",
       "    <tr>\n",
       "      <th>3</th>\n",
       "      <td>20.0</td>\n",
       "      <td>20000.0</td>\n",
       "      <td>1000.0</td>\n",
       "    </tr>\n",
       "    <tr>\n",
       "      <th>4</th>\n",
       "      <td>23.0</td>\n",
       "      <td>NaN</td>\n",
       "      <td>NaN</td>\n",
       "    </tr>\n",
       "  </tbody>\n",
       "</table>\n",
       "</div>"
      ],
      "text/plain": [
       "   Combination MPG  Odometer Difference  Fuel Used\n",
       "0             21.0                  NaN        NaN\n",
       "1              NaN               7000.0        NaN\n",
       "2             18.0                  0.0        0.0\n",
       "3             20.0              20000.0     1000.0\n",
       "4             23.0                  NaN        NaN"
      ]
     },
     "execution_count": 27,
     "metadata": {},
     "output_type": "execute_result"
    }
   ],
   "source": [
    "df1[['Combination MPG', 'Odometer Difference', 'Fuel Used']].head()"
   ]
  },
  {
   "cell_type": "code",
   "execution_count": 28,
   "metadata": {},
   "outputs": [
    {
     "data": {
      "text/plain": [
       "np.int64(2931452)"
      ]
     },
     "execution_count": 28,
     "metadata": {},
     "output_type": "execute_result"
    }
   ],
   "source": [
    "df1['Fuel Used'].isna().sum()"
   ]
  },
  {
   "cell_type": "markdown",
   "metadata": {},
   "source": [
    "# 3. Save the file"
   ]
  },
  {
   "cell_type": "code",
   "execution_count": 29,
   "metadata": {},
   "outputs": [
    {
     "name": "stderr",
     "output_type": "stream",
     "text": [
      "<>:1: SyntaxWarning: invalid escape sequence '\\I'\n",
      "<>:1: SyntaxWarning: invalid escape sequence '\\I'\n",
      "C:\\Users\\Siddhant\\AppData\\Local\\Temp\\ipykernel_11056\\2554184402.py:1: SyntaxWarning: invalid escape sequence '\\I'\n",
      "  df1.to_csv('E:\\IIT Chicago\\Sem 4\\Data Science Practicum - CSP-572\\Datasets\\Odometer Data\\complete_dataset.csv', index=False)\n"
     ]
    }
   ],
   "source": [
    "df1.to_csv('E:\\IIT Chicago\\Sem 4\\Data Science Practicum - CSP-572\\Datasets\\Odometer Data\\complete_dataset.csv', index=False)"
   ]
  }
 ],
 "metadata": {
  "kernelspec": {
   "display_name": "DPA_Project",
   "language": "python",
   "name": "python3"
  },
  "language_info": {
   "codemirror_mode": {
    "name": "ipython",
    "version": 3
   },
   "file_extension": ".py",
   "mimetype": "text/x-python",
   "name": "python",
   "nbconvert_exporter": "python",
   "pygments_lexer": "ipython3",
   "version": "3.13.0"
  }
 },
 "nbformat": 4,
 "nbformat_minor": 2
}
