{
 "cells": [
  {
   "cell_type": "code",
   "execution_count": 1,
   "metadata": {},
   "outputs": [],
   "source": [
    "import pandas as pd"
   ]
  },
  {
   "cell_type": "markdown",
   "metadata": {},
   "source": [
    "# Original Dataset"
   ]
  },
  {
   "cell_type": "code",
   "execution_count": 2,
   "metadata": {},
   "outputs": [],
   "source": [
    "df1 = pd.read_csv(r\"E:\\IIT Chicago\\Sem 4\\Data Science Practicum - CSP-572\\Datasets\\Odometer Data\\complete_dataset.csv\")"
   ]
  },
  {
   "cell_type": "code",
   "execution_count": 10,
   "metadata": {},
   "outputs": [
    {
     "data": {
      "text/html": [
       "<div>\n",
       "<style scoped>\n",
       "    .dataframe tbody tr th:only-of-type {\n",
       "        vertical-align: middle;\n",
       "    }\n",
       "\n",
       "    .dataframe tbody tr th {\n",
       "        vertical-align: top;\n",
       "    }\n",
       "\n",
       "    .dataframe thead th {\n",
       "        text-align: right;\n",
       "    }\n",
       "</style>\n",
       "<table border=\"1\" class=\"dataframe\">\n",
       "  <thead>\n",
       "    <tr style=\"text-align: right;\">\n",
       "      <th></th>\n",
       "      <th>vin</th>\n",
       "      <th>zipcode</th>\n",
       "      <th>make</th>\n",
       "      <th>model</th>\n",
       "      <th>my</th>\n",
       "      <th>purchase_date</th>\n",
       "      <th>Combination MPG</th>\n",
       "      <th>1st Test Date</th>\n",
       "      <th>2nd Test Date</th>\n",
       "      <th>1st Odometer</th>\n",
       "      <th>2nd Odometer</th>\n",
       "      <th>Date Difference (Days)</th>\n",
       "      <th>Odometer Difference</th>\n",
       "      <th>blkgrp</th>\n",
       "      <th>Fuel Used</th>\n",
       "    </tr>\n",
       "  </thead>\n",
       "  <tbody>\n",
       "    <tr>\n",
       "      <th>0</th>\n",
       "      <td>WBAEV33452KL68783</td>\n",
       "      <td>60655</td>\n",
       "      <td>BMW</td>\n",
       "      <td>3 Series</td>\n",
       "      <td>2002</td>\n",
       "      <td>5/1/2021</td>\n",
       "      <td>21.0</td>\n",
       "      <td>2020-06-01</td>\n",
       "      <td>NaN</td>\n",
       "      <td>125000</td>\n",
       "      <td>NaN</td>\n",
       "      <td>NaN</td>\n",
       "      <td>NaN</td>\n",
       "      <td>1.703172e+11</td>\n",
       "      <td>NaN</td>\n",
       "    </tr>\n",
       "    <tr>\n",
       "      <th>1</th>\n",
       "      <td>1GBFG15R6Y1100200</td>\n",
       "      <td>60632</td>\n",
       "      <td>CHEV</td>\n",
       "      <td>Express Cargo</td>\n",
       "      <td>2000</td>\n",
       "      <td>5/21/2017</td>\n",
       "      <td>NaN</td>\n",
       "      <td>2020-06-01</td>\n",
       "      <td>2024-03-26</td>\n",
       "      <td>206000</td>\n",
       "      <td>213000.0</td>\n",
       "      <td>1394.0</td>\n",
       "      <td>7000.0</td>\n",
       "      <td>1.703157e+11</td>\n",
       "      <td>NaN</td>\n",
       "    </tr>\n",
       "    <tr>\n",
       "      <th>2</th>\n",
       "      <td>1GCDT136548185796</td>\n",
       "      <td>60501</td>\n",
       "      <td>CHEV</td>\n",
       "      <td>Colorado</td>\n",
       "      <td>2004</td>\n",
       "      <td>6/18/2013</td>\n",
       "      <td>18.0</td>\n",
       "      <td>2020-06-01</td>\n",
       "      <td>2020-06-04</td>\n",
       "      <td>109000</td>\n",
       "      <td>109000.0</td>\n",
       "      <td>3.0</td>\n",
       "      <td>0.0</td>\n",
       "      <td>1.703182e+11</td>\n",
       "      <td>0.0</td>\n",
       "    </tr>\n",
       "    <tr>\n",
       "      <th>3</th>\n",
       "      <td>2GKALMEK0C6364495</td>\n",
       "      <td>60453</td>\n",
       "      <td>GMC</td>\n",
       "      <td>Terrain</td>\n",
       "      <td>2012</td>\n",
       "      <td>4/26/2018</td>\n",
       "      <td>20.0</td>\n",
       "      <td>2020-06-01</td>\n",
       "      <td>2024-05-03</td>\n",
       "      <td>80000</td>\n",
       "      <td>100000.0</td>\n",
       "      <td>1432.0</td>\n",
       "      <td>20000.0</td>\n",
       "      <td>1.703182e+11</td>\n",
       "      <td>1000.0</td>\n",
       "    </tr>\n",
       "    <tr>\n",
       "      <th>4</th>\n",
       "      <td>1HGCG1652YA094701</td>\n",
       "      <td>60459</td>\n",
       "      <td>HOND</td>\n",
       "      <td>Accord</td>\n",
       "      <td>2000</td>\n",
       "      <td>7/19/2014</td>\n",
       "      <td>23.0</td>\n",
       "      <td>2020-06-01</td>\n",
       "      <td>NaN</td>\n",
       "      <td>167000</td>\n",
       "      <td>NaN</td>\n",
       "      <td>NaN</td>\n",
       "      <td>NaN</td>\n",
       "      <td>1.703182e+11</td>\n",
       "      <td>NaN</td>\n",
       "    </tr>\n",
       "  </tbody>\n",
       "</table>\n",
       "</div>"
      ],
      "text/plain": [
       "                 vin  zipcode  make          model    my purchase_date  \\\n",
       "0  WBAEV33452KL68783    60655  BMW        3 Series  2002      5/1/2021   \n",
       "1  1GBFG15R6Y1100200    60632  CHEV  Express Cargo  2000     5/21/2017   \n",
       "2  1GCDT136548185796    60501  CHEV       Colorado  2004     6/18/2013   \n",
       "3  2GKALMEK0C6364495    60453  GMC         Terrain  2012     4/26/2018   \n",
       "4  1HGCG1652YA094701    60459  HOND         Accord  2000     7/19/2014   \n",
       "\n",
       "   Combination MPG 1st Test Date 2nd Test Date  1st Odometer  2nd Odometer  \\\n",
       "0             21.0    2020-06-01           NaN        125000           NaN   \n",
       "1              NaN    2020-06-01    2024-03-26        206000      213000.0   \n",
       "2             18.0    2020-06-01    2020-06-04        109000      109000.0   \n",
       "3             20.0    2020-06-01    2024-05-03         80000      100000.0   \n",
       "4             23.0    2020-06-01           NaN        167000           NaN   \n",
       "\n",
       "   Date Difference (Days)  Odometer Difference        blkgrp  Fuel Used  \n",
       "0                     NaN                  NaN  1.703172e+11        NaN  \n",
       "1                  1394.0               7000.0  1.703157e+11        NaN  \n",
       "2                     3.0                  0.0  1.703182e+11        0.0  \n",
       "3                  1432.0              20000.0  1.703182e+11     1000.0  \n",
       "4                     NaN                  NaN  1.703182e+11        NaN  "
      ]
     },
     "execution_count": 10,
     "metadata": {},
     "output_type": "execute_result"
    }
   ],
   "source": [
    "df1.head()"
   ]
  },
  {
   "cell_type": "code",
   "execution_count": 11,
   "metadata": {},
   "outputs": [
    {
     "name": "stdout",
     "output_type": "stream",
     "text": [
      "<class 'pandas.core.frame.DataFrame'>\n",
      "RangeIndex: 5195673 entries, 0 to 5195672\n",
      "Data columns (total 15 columns):\n",
      " #   Column                  Dtype  \n",
      "---  ------                  -----  \n",
      " 0   vin                     object \n",
      " 1   zipcode                 int64  \n",
      " 2   make                    object \n",
      " 3   model                   object \n",
      " 4   my                      int64  \n",
      " 5   purchase_date           object \n",
      " 6   Combination MPG         float64\n",
      " 7   1st Test Date           object \n",
      " 8   2nd Test Date           object \n",
      " 9   1st Odometer            int64  \n",
      " 10  2nd Odometer            float64\n",
      " 11  Date Difference (Days)  float64\n",
      " 12  Odometer Difference     float64\n",
      " 13  blkgrp                  float64\n",
      " 14  Fuel Used               float64\n",
      "dtypes: float64(6), int64(3), object(6)\n",
      "memory usage: 594.6+ MB\n"
     ]
    }
   ],
   "source": [
    "df1.info()"
   ]
  },
  {
   "cell_type": "markdown",
   "metadata": {},
   "source": [
    "# PART 1"
   ]
  },
  {
   "cell_type": "markdown",
   "metadata": {},
   "source": [
    "# Dataset with model of car and it's fuel type"
   ]
  },
  {
   "cell_type": "code",
   "execution_count": 4,
   "metadata": {},
   "outputs": [],
   "source": [
    "df2 = pd.read_csv(r'c:\\Users\\Siddhant\\Downloads\\VIN_FuelType_Processed_Optimized.csv')"
   ]
  },
  {
   "cell_type": "code",
   "execution_count": 5,
   "metadata": {},
   "outputs": [
    {
     "data": {
      "text/html": [
       "<div>\n",
       "<style scoped>\n",
       "    .dataframe tbody tr th:only-of-type {\n",
       "        vertical-align: middle;\n",
       "    }\n",
       "\n",
       "    .dataframe tbody tr th {\n",
       "        vertical-align: top;\n",
       "    }\n",
       "\n",
       "    .dataframe thead th {\n",
       "        text-align: right;\n",
       "    }\n",
       "</style>\n",
       "<table border=\"1\" class=\"dataframe\">\n",
       "  <thead>\n",
       "    <tr style=\"text-align: right;\">\n",
       "      <th></th>\n",
       "      <th>model</th>\n",
       "      <th>vin</th>\n",
       "      <th>Fuel_Type</th>\n",
       "    </tr>\n",
       "  </thead>\n",
       "  <tbody>\n",
       "    <tr>\n",
       "      <th>0</th>\n",
       "      <td>3 Series</td>\n",
       "      <td>WBAET37493NJ33416</td>\n",
       "      <td>Gasoline</td>\n",
       "    </tr>\n",
       "    <tr>\n",
       "      <th>1</th>\n",
       "      <td>Express Cargo</td>\n",
       "      <td>1GCWGFBA0D1114031</td>\n",
       "      <td>Gasoline</td>\n",
       "    </tr>\n",
       "    <tr>\n",
       "      <th>2</th>\n",
       "      <td>Colorado</td>\n",
       "      <td>1GCCS14E278106951</td>\n",
       "      <td>Gasoline</td>\n",
       "    </tr>\n",
       "    <tr>\n",
       "      <th>3</th>\n",
       "      <td>Terrain</td>\n",
       "      <td>2GKFLXEK6F6419446</td>\n",
       "      <td>Gasoline</td>\n",
       "    </tr>\n",
       "    <tr>\n",
       "      <th>4</th>\n",
       "      <td>Accord</td>\n",
       "      <td>1HGCS1B89BA004143</td>\n",
       "      <td>Gasoline</td>\n",
       "    </tr>\n",
       "  </tbody>\n",
       "</table>\n",
       "</div>"
      ],
      "text/plain": [
       "           model                vin Fuel_Type\n",
       "0       3 Series  WBAET37493NJ33416  Gasoline\n",
       "1  Express Cargo  1GCWGFBA0D1114031  Gasoline\n",
       "2       Colorado  1GCCS14E278106951  Gasoline\n",
       "3        Terrain  2GKFLXEK6F6419446  Gasoline\n",
       "4         Accord  1HGCS1B89BA004143  Gasoline"
      ]
     },
     "execution_count": 5,
     "metadata": {},
     "output_type": "execute_result"
    }
   ],
   "source": [
    "df2.head()"
   ]
  },
  {
   "cell_type": "code",
   "execution_count": 6,
   "metadata": {},
   "outputs": [
    {
     "data": {
      "text/plain": [
       "model          0\n",
       "vin          136\n",
       "Fuel_Type    136\n",
       "dtype: int64"
      ]
     },
     "execution_count": 6,
     "metadata": {},
     "output_type": "execute_result"
    }
   ],
   "source": [
    "df2.isnull().sum()"
   ]
  },
  {
   "cell_type": "code",
   "execution_count": 8,
   "metadata": {},
   "outputs": [
    {
     "name": "stdout",
     "output_type": "stream",
     "text": [
      "<class 'pandas.core.frame.DataFrame'>\n",
      "RangeIndex: 1434 entries, 0 to 1433\n",
      "Data columns (total 3 columns):\n",
      " #   Column     Non-Null Count  Dtype \n",
      "---  ------     --------------  ----- \n",
      " 0   model      1434 non-null   object\n",
      " 1   vin        1298 non-null   object\n",
      " 2   Fuel_Type  1298 non-null   object\n",
      "dtypes: object(3)\n",
      "memory usage: 33.7+ KB\n"
     ]
    }
   ],
   "source": [
    "df2.info()"
   ]
  },
  {
   "cell_type": "code",
   "execution_count": 15,
   "metadata": {},
   "outputs": [
    {
     "data": {
      "text/plain": [
       "Fuel_Type\n",
       "Gasoline                       1218\n",
       "Electric                         30\n",
       "Flexible Fuel Vehicle (FFV)      26\n",
       "Diesel                           17\n",
       "Not Applicable                    4\n",
       "Ethanol (E85)                     3\n",
       "Name: count, dtype: int64"
      ]
     },
     "execution_count": 15,
     "metadata": {},
     "output_type": "execute_result"
    }
   ],
   "source": [
    "df2['Fuel_Type'].value_counts()"
   ]
  },
  {
   "cell_type": "markdown",
   "metadata": {},
   "source": [
    "# Merge the datasets"
   ]
  },
  {
   "cell_type": "code",
   "execution_count": 12,
   "metadata": {},
   "outputs": [],
   "source": [
    "df1 = df1.merge(df2[['model', 'Fuel_Type']], on='model', how='left')\n"
   ]
  },
  {
   "cell_type": "code",
   "execution_count": 13,
   "metadata": {},
   "outputs": [
    {
     "data": {
      "text/html": [
       "<div>\n",
       "<style scoped>\n",
       "    .dataframe tbody tr th:only-of-type {\n",
       "        vertical-align: middle;\n",
       "    }\n",
       "\n",
       "    .dataframe tbody tr th {\n",
       "        vertical-align: top;\n",
       "    }\n",
       "\n",
       "    .dataframe thead th {\n",
       "        text-align: right;\n",
       "    }\n",
       "</style>\n",
       "<table border=\"1\" class=\"dataframe\">\n",
       "  <thead>\n",
       "    <tr style=\"text-align: right;\">\n",
       "      <th></th>\n",
       "      <th>vin</th>\n",
       "      <th>zipcode</th>\n",
       "      <th>make</th>\n",
       "      <th>model</th>\n",
       "      <th>my</th>\n",
       "      <th>purchase_date</th>\n",
       "      <th>Combination MPG</th>\n",
       "      <th>1st Test Date</th>\n",
       "      <th>2nd Test Date</th>\n",
       "      <th>1st Odometer</th>\n",
       "      <th>2nd Odometer</th>\n",
       "      <th>Date Difference (Days)</th>\n",
       "      <th>Odometer Difference</th>\n",
       "      <th>blkgrp</th>\n",
       "      <th>Fuel Used</th>\n",
       "      <th>Fuel_Type</th>\n",
       "    </tr>\n",
       "  </thead>\n",
       "  <tbody>\n",
       "    <tr>\n",
       "      <th>0</th>\n",
       "      <td>WBAEV33452KL68783</td>\n",
       "      <td>60655</td>\n",
       "      <td>BMW</td>\n",
       "      <td>3 Series</td>\n",
       "      <td>2002</td>\n",
       "      <td>5/1/2021</td>\n",
       "      <td>21.0</td>\n",
       "      <td>2020-06-01</td>\n",
       "      <td>NaN</td>\n",
       "      <td>125000</td>\n",
       "      <td>NaN</td>\n",
       "      <td>NaN</td>\n",
       "      <td>NaN</td>\n",
       "      <td>1.703172e+11</td>\n",
       "      <td>NaN</td>\n",
       "      <td>Gasoline</td>\n",
       "    </tr>\n",
       "    <tr>\n",
       "      <th>1</th>\n",
       "      <td>1GBFG15R6Y1100200</td>\n",
       "      <td>60632</td>\n",
       "      <td>CHEV</td>\n",
       "      <td>Express Cargo</td>\n",
       "      <td>2000</td>\n",
       "      <td>5/21/2017</td>\n",
       "      <td>NaN</td>\n",
       "      <td>2020-06-01</td>\n",
       "      <td>2024-03-26</td>\n",
       "      <td>206000</td>\n",
       "      <td>213000.0</td>\n",
       "      <td>1394.0</td>\n",
       "      <td>7000.0</td>\n",
       "      <td>1.703157e+11</td>\n",
       "      <td>NaN</td>\n",
       "      <td>Gasoline</td>\n",
       "    </tr>\n",
       "    <tr>\n",
       "      <th>2</th>\n",
       "      <td>1GCDT136548185796</td>\n",
       "      <td>60501</td>\n",
       "      <td>CHEV</td>\n",
       "      <td>Colorado</td>\n",
       "      <td>2004</td>\n",
       "      <td>6/18/2013</td>\n",
       "      <td>18.0</td>\n",
       "      <td>2020-06-01</td>\n",
       "      <td>2020-06-04</td>\n",
       "      <td>109000</td>\n",
       "      <td>109000.0</td>\n",
       "      <td>3.0</td>\n",
       "      <td>0.0</td>\n",
       "      <td>1.703182e+11</td>\n",
       "      <td>0.0</td>\n",
       "      <td>Gasoline</td>\n",
       "    </tr>\n",
       "    <tr>\n",
       "      <th>3</th>\n",
       "      <td>2GKALMEK0C6364495</td>\n",
       "      <td>60453</td>\n",
       "      <td>GMC</td>\n",
       "      <td>Terrain</td>\n",
       "      <td>2012</td>\n",
       "      <td>4/26/2018</td>\n",
       "      <td>20.0</td>\n",
       "      <td>2020-06-01</td>\n",
       "      <td>2024-05-03</td>\n",
       "      <td>80000</td>\n",
       "      <td>100000.0</td>\n",
       "      <td>1432.0</td>\n",
       "      <td>20000.0</td>\n",
       "      <td>1.703182e+11</td>\n",
       "      <td>1000.0</td>\n",
       "      <td>Gasoline</td>\n",
       "    </tr>\n",
       "    <tr>\n",
       "      <th>4</th>\n",
       "      <td>1HGCG1652YA094701</td>\n",
       "      <td>60459</td>\n",
       "      <td>HOND</td>\n",
       "      <td>Accord</td>\n",
       "      <td>2000</td>\n",
       "      <td>7/19/2014</td>\n",
       "      <td>23.0</td>\n",
       "      <td>2020-06-01</td>\n",
       "      <td>NaN</td>\n",
       "      <td>167000</td>\n",
       "      <td>NaN</td>\n",
       "      <td>NaN</td>\n",
       "      <td>NaN</td>\n",
       "      <td>1.703182e+11</td>\n",
       "      <td>NaN</td>\n",
       "      <td>Gasoline</td>\n",
       "    </tr>\n",
       "  </tbody>\n",
       "</table>\n",
       "</div>"
      ],
      "text/plain": [
       "                 vin  zipcode  make          model    my purchase_date  \\\n",
       "0  WBAEV33452KL68783    60655  BMW        3 Series  2002      5/1/2021   \n",
       "1  1GBFG15R6Y1100200    60632  CHEV  Express Cargo  2000     5/21/2017   \n",
       "2  1GCDT136548185796    60501  CHEV       Colorado  2004     6/18/2013   \n",
       "3  2GKALMEK0C6364495    60453  GMC         Terrain  2012     4/26/2018   \n",
       "4  1HGCG1652YA094701    60459  HOND         Accord  2000     7/19/2014   \n",
       "\n",
       "   Combination MPG 1st Test Date 2nd Test Date  1st Odometer  2nd Odometer  \\\n",
       "0             21.0    2020-06-01           NaN        125000           NaN   \n",
       "1              NaN    2020-06-01    2024-03-26        206000      213000.0   \n",
       "2             18.0    2020-06-01    2020-06-04        109000      109000.0   \n",
       "3             20.0    2020-06-01    2024-05-03         80000      100000.0   \n",
       "4             23.0    2020-06-01           NaN        167000           NaN   \n",
       "\n",
       "   Date Difference (Days)  Odometer Difference        blkgrp  Fuel Used  \\\n",
       "0                     NaN                  NaN  1.703172e+11        NaN   \n",
       "1                  1394.0               7000.0  1.703157e+11        NaN   \n",
       "2                     3.0                  0.0  1.703182e+11        0.0   \n",
       "3                  1432.0              20000.0  1.703182e+11     1000.0   \n",
       "4                     NaN                  NaN  1.703182e+11        NaN   \n",
       "\n",
       "  Fuel_Type  \n",
       "0  Gasoline  \n",
       "1  Gasoline  \n",
       "2  Gasoline  \n",
       "3  Gasoline  \n",
       "4  Gasoline  "
      ]
     },
     "execution_count": 13,
     "metadata": {},
     "output_type": "execute_result"
    }
   ],
   "source": [
    "df1.head()"
   ]
  },
  {
   "cell_type": "code",
   "execution_count": 14,
   "metadata": {},
   "outputs": [
    {
     "data": {
      "text/plain": [
       "array(['Gasoline', 'Flexible Fuel Vehicle (FFV)', nan, 'Electric',\n",
       "       'Ethanol (E85)', 'Diesel', 'Not Applicable'], dtype=object)"
      ]
     },
     "execution_count": 14,
     "metadata": {},
     "output_type": "execute_result"
    }
   ],
   "source": [
    "df1['Fuel_Type'].unique()\n"
   ]
  },
  {
   "cell_type": "code",
   "execution_count": 16,
   "metadata": {},
   "outputs": [
    {
     "data": {
      "text/plain": [
       "Fuel_Type\n",
       "Gasoline                       4889313\n",
       "Flexible Fuel Vehicle (FFV)     287301\n",
       "Electric                          7486\n",
       "Ethanol (E85)                     2025\n",
       "Diesel                             400\n",
       "Not Applicable                       4\n",
       "Name: count, dtype: int64"
      ]
     },
     "execution_count": 16,
     "metadata": {},
     "output_type": "execute_result"
    }
   ],
   "source": [
    "df1['Fuel_Type'].value_counts()"
   ]
  },
  {
   "cell_type": "code",
   "execution_count": null,
   "metadata": {},
   "outputs": [],
   "source": [
    "df1 = df1.rename(columns={'Odometer Difference': 'VMT'})"
   ]
  },
  {
   "cell_type": "markdown",
   "metadata": {},
   "source": [
    "# PART 2"
   ]
  },
  {
   "cell_type": "markdown",
   "metadata": {},
   "source": [
    "# Add Emission column using calculations"
   ]
  },
  {
   "cell_type": "code",
   "execution_count": 24,
   "metadata": {},
   "outputs": [],
   "source": [
    "import numpy as np\n",
    "\n",
    "# Function to calculate emissions based on fuel type and VMT\n",
    "def calculate_emission(row):\n",
    "    fuel_type = row['Fuel_Type']\n",
    "    vmt = row['VMT']\n",
    "    mpg = row['Combination MPG']\n",
    "\n",
    "    # Handle cases where VMT or Fuel_Type is NaN\n",
    "    if pd.isna(vmt) or pd.isna(fuel_type):\n",
    "        return np.nan\n",
    "\n",
    "    # Calculate emissions for Gasoline\n",
    "    if fuel_type == 'Gasoline':\n",
    "        if pd.isna(mpg):\n",
    "            return np.nan\n",
    "        # Gasoline emission calculation\n",
    "        emission = 8.89e-3 * vmt * (1 / mpg) * (1 / 0.994)\n",
    "\n",
    "    # Calculate emissions for Diesel\n",
    "    elif fuel_type == 'Diesel':\n",
    "        if pd.isna(mpg):\n",
    "            return np.nan\n",
    "        # Diesel emission calculation\n",
    "        emission = 10.180e-3 * vmt * (1 / mpg) * (1 / 0.994)\n",
    "\n",
    "    # Calculate emissions for Electric\n",
    "    elif fuel_type == 'Electric':\n",
    "        # Electric emission calculation\n",
    "        emission = 823.1 * vmt * (1 / 3.60) * (1 / 1000) * (1 / 2204.6)\n",
    "\n",
    "    # For other fuel types, return NaN\n",
    "    else:\n",
    "        return np.nan\n",
    "\n",
    "    return emission"
   ]
  },
  {
   "cell_type": "code",
   "execution_count": 25,
   "metadata": {},
   "outputs": [],
   "source": [
    "# Apply the function to each row and create the 'emissions' column\n",
    "df1['emissions'] = df1.apply(calculate_emission, axis=1)"
   ]
  },
  {
   "cell_type": "code",
   "execution_count": 26,
   "metadata": {},
   "outputs": [
    {
     "data": {
      "text/html": [
       "<div>\n",
       "<style scoped>\n",
       "    .dataframe tbody tr th:only-of-type {\n",
       "        vertical-align: middle;\n",
       "    }\n",
       "\n",
       "    .dataframe tbody tr th {\n",
       "        vertical-align: top;\n",
       "    }\n",
       "\n",
       "    .dataframe thead th {\n",
       "        text-align: right;\n",
       "    }\n",
       "</style>\n",
       "<table border=\"1\" class=\"dataframe\">\n",
       "  <thead>\n",
       "    <tr style=\"text-align: right;\">\n",
       "      <th></th>\n",
       "      <th>vin</th>\n",
       "      <th>zipcode</th>\n",
       "      <th>make</th>\n",
       "      <th>model</th>\n",
       "      <th>my</th>\n",
       "      <th>purchase_date</th>\n",
       "      <th>Combination MPG</th>\n",
       "      <th>1st Test Date</th>\n",
       "      <th>2nd Test Date</th>\n",
       "      <th>1st Odometer</th>\n",
       "      <th>2nd Odometer</th>\n",
       "      <th>Date Difference (Days)</th>\n",
       "      <th>VMT</th>\n",
       "      <th>blkgrp</th>\n",
       "      <th>Fuel Used</th>\n",
       "      <th>Fuel_Type</th>\n",
       "      <th>emissions</th>\n",
       "    </tr>\n",
       "  </thead>\n",
       "  <tbody>\n",
       "    <tr>\n",
       "      <th>0</th>\n",
       "      <td>WBAEV33452KL68783</td>\n",
       "      <td>60655</td>\n",
       "      <td>BMW</td>\n",
       "      <td>3 Series</td>\n",
       "      <td>2002</td>\n",
       "      <td>5/1/2021</td>\n",
       "      <td>21.0</td>\n",
       "      <td>2020-06-01</td>\n",
       "      <td>NaN</td>\n",
       "      <td>125000</td>\n",
       "      <td>NaN</td>\n",
       "      <td>NaN</td>\n",
       "      <td>NaN</td>\n",
       "      <td>1.703172e+11</td>\n",
       "      <td>NaN</td>\n",
       "      <td>Gasoline</td>\n",
       "      <td>NaN</td>\n",
       "    </tr>\n",
       "    <tr>\n",
       "      <th>1</th>\n",
       "      <td>1GBFG15R6Y1100200</td>\n",
       "      <td>60632</td>\n",
       "      <td>CHEV</td>\n",
       "      <td>Express Cargo</td>\n",
       "      <td>2000</td>\n",
       "      <td>5/21/2017</td>\n",
       "      <td>NaN</td>\n",
       "      <td>2020-06-01</td>\n",
       "      <td>2024-03-26</td>\n",
       "      <td>206000</td>\n",
       "      <td>213000.0</td>\n",
       "      <td>1394.0</td>\n",
       "      <td>7000.0</td>\n",
       "      <td>1.703157e+11</td>\n",
       "      <td>NaN</td>\n",
       "      <td>Gasoline</td>\n",
       "      <td>NaN</td>\n",
       "    </tr>\n",
       "    <tr>\n",
       "      <th>2</th>\n",
       "      <td>1GCDT136548185796</td>\n",
       "      <td>60501</td>\n",
       "      <td>CHEV</td>\n",
       "      <td>Colorado</td>\n",
       "      <td>2004</td>\n",
       "      <td>6/18/2013</td>\n",
       "      <td>18.0</td>\n",
       "      <td>2020-06-01</td>\n",
       "      <td>2020-06-04</td>\n",
       "      <td>109000</td>\n",
       "      <td>109000.0</td>\n",
       "      <td>3.0</td>\n",
       "      <td>0.0</td>\n",
       "      <td>1.703182e+11</td>\n",
       "      <td>0.0</td>\n",
       "      <td>Gasoline</td>\n",
       "      <td>0.000000</td>\n",
       "    </tr>\n",
       "    <tr>\n",
       "      <th>3</th>\n",
       "      <td>2GKALMEK0C6364495</td>\n",
       "      <td>60453</td>\n",
       "      <td>GMC</td>\n",
       "      <td>Terrain</td>\n",
       "      <td>2012</td>\n",
       "      <td>4/26/2018</td>\n",
       "      <td>20.0</td>\n",
       "      <td>2020-06-01</td>\n",
       "      <td>2024-05-03</td>\n",
       "      <td>80000</td>\n",
       "      <td>100000.0</td>\n",
       "      <td>1432.0</td>\n",
       "      <td>20000.0</td>\n",
       "      <td>1.703182e+11</td>\n",
       "      <td>1000.0</td>\n",
       "      <td>Gasoline</td>\n",
       "      <td>8.943662</td>\n",
       "    </tr>\n",
       "    <tr>\n",
       "      <th>4</th>\n",
       "      <td>1HGCG1652YA094701</td>\n",
       "      <td>60459</td>\n",
       "      <td>HOND</td>\n",
       "      <td>Accord</td>\n",
       "      <td>2000</td>\n",
       "      <td>7/19/2014</td>\n",
       "      <td>23.0</td>\n",
       "      <td>2020-06-01</td>\n",
       "      <td>NaN</td>\n",
       "      <td>167000</td>\n",
       "      <td>NaN</td>\n",
       "      <td>NaN</td>\n",
       "      <td>NaN</td>\n",
       "      <td>1.703182e+11</td>\n",
       "      <td>NaN</td>\n",
       "      <td>Gasoline</td>\n",
       "      <td>NaN</td>\n",
       "    </tr>\n",
       "  </tbody>\n",
       "</table>\n",
       "</div>"
      ],
      "text/plain": [
       "                 vin  zipcode  make          model    my purchase_date  \\\n",
       "0  WBAEV33452KL68783    60655  BMW        3 Series  2002      5/1/2021   \n",
       "1  1GBFG15R6Y1100200    60632  CHEV  Express Cargo  2000     5/21/2017   \n",
       "2  1GCDT136548185796    60501  CHEV       Colorado  2004     6/18/2013   \n",
       "3  2GKALMEK0C6364495    60453  GMC         Terrain  2012     4/26/2018   \n",
       "4  1HGCG1652YA094701    60459  HOND         Accord  2000     7/19/2014   \n",
       "\n",
       "   Combination MPG 1st Test Date 2nd Test Date  1st Odometer  2nd Odometer  \\\n",
       "0             21.0    2020-06-01           NaN        125000           NaN   \n",
       "1              NaN    2020-06-01    2024-03-26        206000      213000.0   \n",
       "2             18.0    2020-06-01    2020-06-04        109000      109000.0   \n",
       "3             20.0    2020-06-01    2024-05-03         80000      100000.0   \n",
       "4             23.0    2020-06-01           NaN        167000           NaN   \n",
       "\n",
       "   Date Difference (Days)      VMT        blkgrp  Fuel Used Fuel_Type  \\\n",
       "0                     NaN      NaN  1.703172e+11        NaN  Gasoline   \n",
       "1                  1394.0   7000.0  1.703157e+11        NaN  Gasoline   \n",
       "2                     3.0      0.0  1.703182e+11        0.0  Gasoline   \n",
       "3                  1432.0  20000.0  1.703182e+11     1000.0  Gasoline   \n",
       "4                     NaN      NaN  1.703182e+11        NaN  Gasoline   \n",
       "\n",
       "   emissions  \n",
       "0        NaN  \n",
       "1        NaN  \n",
       "2   0.000000  \n",
       "3   8.943662  \n",
       "4        NaN  "
      ]
     },
     "execution_count": 26,
     "metadata": {},
     "output_type": "execute_result"
    }
   ],
   "source": [
    "df1.head()"
   ]
  },
  {
   "cell_type": "code",
   "execution_count": 27,
   "metadata": {},
   "outputs": [
    {
     "data": {
      "text/plain": [
       "vin                             0\n",
       "zipcode                         0\n",
       "make                            0\n",
       "model                           0\n",
       "my                              0\n",
       "purchase_date                   0\n",
       "Combination MPG            439998\n",
       "1st Test Date                   0\n",
       "2nd Test Date             2718298\n",
       "1st Odometer                    0\n",
       "2nd Odometer              2718298\n",
       "Date Difference (Days)    2718298\n",
       "VMT                       2718298\n",
       "blkgrp                      55114\n",
       "Fuel Used                 2931452\n",
       "Fuel_Type                    9144\n",
       "emissions                 3054818\n",
       "dtype: int64"
      ]
     },
     "execution_count": 27,
     "metadata": {},
     "output_type": "execute_result"
    }
   ],
   "source": [
    "df1.isnull().sum()"
   ]
  },
  {
   "cell_type": "code",
   "execution_count": 29,
   "metadata": {},
   "outputs": [
    {
     "data": {
      "text/plain": [
       "(5195673, 17)"
      ]
     },
     "execution_count": 29,
     "metadata": {},
     "output_type": "execute_result"
    }
   ],
   "source": [
    "df1.shape"
   ]
  },
  {
   "cell_type": "markdown",
   "metadata": {},
   "source": [
    "# Save the dataset"
   ]
  },
  {
   "cell_type": "code",
   "execution_count": null,
   "metadata": {},
   "outputs": [
    {
     "name": "stderr",
     "output_type": "stream",
     "text": [
      "<>:1: SyntaxWarning: invalid escape sequence '\\I'\n",
      "<>:1: SyntaxWarning: invalid escape sequence '\\I'\n",
      "C:\\Users\\Siddhant\\AppData\\Local\\Temp\\ipykernel_22948\\3506111141.py:1: SyntaxWarning: invalid escape sequence '\\I'\n",
      "  df1.to_csv(\"E:\\IIT Chicago\\Sem 4\\Data Science Practicum - CSP-572\\Datasets\\Odometer Data\\datset_emissions_demographic.csv\", index=False)\n"
     ]
    }
   ],
   "source": [
    "df1.to_csv(\"E:\\IIT Chicago\\Sem 4\\Data Science Practicum - CSP-572\\Datasets\\Odometer Data\\dataset_emissions_demographic.csv\", index=False)"
   ]
  }
 ],
 "metadata": {
  "kernelspec": {
   "display_name": "DPA_Project",
   "language": "python",
   "name": "python3"
  },
  "language_info": {
   "codemirror_mode": {
    "name": "ipython",
    "version": 3
   },
   "file_extension": ".py",
   "mimetype": "text/x-python",
   "name": "python",
   "nbconvert_exporter": "python",
   "pygments_lexer": "ipython3",
   "version": "3.13.0"
  }
 },
 "nbformat": 4,
 "nbformat_minor": 2
}
