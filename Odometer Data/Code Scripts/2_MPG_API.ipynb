{
 "cells": [
  {
   "cell_type": "code",
   "execution_count": 7,
   "metadata": {},
   "outputs": [],
   "source": [
    "import pandas as pd\n",
    "import time\n",
    "import requests\n",
    "import urllib.parse"
   ]
  },
  {
   "cell_type": "markdown",
   "metadata": {},
   "source": [
    "### Loading raw odometer data"
   ]
  },
  {
   "cell_type": "code",
   "execution_count": null,
   "metadata": {},
   "outputs": [],
   "source": [
    "# Load the dataset\n",
    "file_path = \"C:/Users/kaur6/Downloads/Urban Analytics/Odometer Data-Full/merged_all_years.csv\"\n",
    "df = pd.read_csv(file_path)\n",
    "print(f\"Number of rows in the dataset: {df.shape[0]}\")"
   ]
  },
  {
   "cell_type": "code",
   "execution_count": null,
   "metadata": {},
   "outputs": [],
   "source": [
    "import pyodbc\n",
    "# Database connection\n",
    "conn = pyodbc.connect('DRIVER={SQL Server};SERVER=manpreets_asus;DATABASE=vPICList_Lite1;Trusted_Connection=yes;')\n",
    "cursor = conn.cursor()"
   ]
  },
  {
   "cell_type": "markdown",
   "metadata": {},
   "source": [
    "### Getting data for vin using NHTSA's VIN Decoder"
   ]
  },
  {
   "cell_type": "code",
   "execution_count": null,
   "metadata": {},
   "outputs": [],
   "source": [
    "# List to store results\n",
    "all_results = []\n",
    "\n",
    "# Loop through each VIN and fetch results\n",
    "for vin in first_500_vins:\n",
    "    cursor.execute(\"EXEC [dbo].[spVinDecode] @v = ?\", vin)\n",
    "    results = cursor.fetchall()\n",
    "\n",
    "    if results:\n",
    "        # Extract column names\n",
    "        columns = [column[0] for column in cursor.description]\n",
    "\n",
    "        # Append data with VIN included\n",
    "        for row in results:\n",
    "            row_dict = dict(zip(columns, row))\n",
    "            row_dict[\"VIN\"] = vin  # Add VIN as a separate column\n",
    "            all_results.append(row_dict)\n",
    "\n",
    "# Close database connection\n",
    "cursor.close()\n",
    "conn.close()\n",
    "\n",
    "# Convert results to DataFrame\n",
    "df_results = pd.DataFrame(all_results)\n",
    "\n",
    "# Check for duplicates before pivoting\n",
    "df_results = df_results.groupby([\"VIN\", \"Variable\"])[\"Value\"].agg(lambda x: \"; \".join(x.astype(str))).reset_index()\n",
    "\n",
    "# Pivot the DataFrame: Convert 'Variable' column into column headers\n",
    "df_pivot = df_results.pivot(index=\"VIN\", columns=\"Variable\", values=\"Value\")\n",
    "\n",
    "# Reset column names for clarity\n",
    "df_pivot.reset_index(inplace=True)\n",
    "\n",
    "# Save to CSV\n",
    "output_file = \"C:/Users/kaur6/Downloads/Urban Analytics/Odometer Data/illinois_2023/decoded_vins_results.csv\"\n",
    "df_pivot.to_csv(output_file, index=False)\n",
    "\n",
    "print(f\"Results saved to {output_file}\")"
   ]
  },
  {
   "cell_type": "code",
   "execution_count": 8,
   "metadata": {},
   "outputs": [],
   "source": [
    "# Load car model dataset from CSV file\n",
    "input_csv = \"C:/Users/kaur6/Downloads/Urban Analytics/Odometer Data/illinois_2023/decoded_vins_results.csv\"\n",
    "output_csv = \"C:/Users/kaur6/Downloads/Urban Analytics/Odometer Data/illinois_2023/vin_to_mpg_correct.csv\"\n",
    "\n",
    "# Read the CSV file into a DataFrame\n",
    "df = pd.read_csv(input_csv)"
   ]
  },
  {
   "cell_type": "code",
   "execution_count": 9,
   "metadata": {},
   "outputs": [],
   "source": [
    "models = df['Model'].tolist()  \n",
    "model_years = df['Model Year'].tolist()\n",
    "vins = df['VIN'].tolist() \n",
    "\n",
    "# List to store the results\n",
    "results = []"
   ]
  },
  {
   "cell_type": "markdown",
   "metadata": {},
   "source": [
    "### Then Getting mpg value using Ninja API"
   ]
  },
  {
   "cell_type": "code",
   "execution_count": 10,
   "metadata": {},
   "outputs": [
    {
     "name": "stdout",
     "output_type": "stream",
     "text": [
      "Results saved to C:/Users/kaur6/Downloads/Urban Analytics/Odometer Data/illinois_2023/vin_to_mpg_correct.csv\n"
     ]
    }
   ],
   "source": [
    "# Loop through each model and make the API request\n",
    "for model, year, vin in zip(models, model_years, vins):\n",
    "    #model_encoded = urllib.parse.quote(str(model))\n",
    "    api_url = f'https://api.api-ninjas.com/v1/cars?model={model}&year={year}'\n",
    "    headers = {'X-Api-Key': '1/aY3pF/oRUYY//kBd2WFw==mXNkrfZSlrNf9pQL'}  # Store in env variable or config file\n",
    "\n",
    "    try:\n",
    "        response = requests.get(api_url, headers=headers)\n",
    "\n",
    "        if response.status_code == requests.codes.ok:\n",
    "            car_data = response.json()\n",
    "            combination_mpg = car_data[0].get('combination_mpg', 'Combination MPG not available') if car_data else 'No data found'\n",
    "        else:\n",
    "            combination_mpg = f\"Error {response.status_code}\"\n",
    "\n",
    "    except Exception as e:\n",
    "        combination_mpg = f\"Request failed: {str(e)}\"\n",
    "\n",
    "    results.append({'VIN': vin, 'Model': model, 'Model Year': year, 'Combination MPG': combination_mpg})\n",
    "    #time.sleep(1)  # Prevent API rate limits\n",
    "\n",
    "results_df = pd.DataFrame(results)\n",
    "results_df.to_csv(output_csv, index=False)\n",
    "\n",
    "print(f\"Results saved to {output_csv}\")"
   ]
  },
  {
   "cell_type": "code",
   "execution_count": 3,
   "metadata": {},
   "outputs": [
    {
     "name": "stdin",
     "output_type": "stream",
     "text": [
      "Enter the model you want to query:  M235i\n",
      "Enter the model year you want to query:  2016\n"
     ]
    },
    {
     "name": "stdout",
     "output_type": "stream",
     "text": [
      "Model: M235i, Combination MPG: 24\n"
     ]
    }
   ],
   "source": [
    "# Take model input from the user\n",
    "model_input = input(\"Enter the model you want to query: \")\n",
    "model_year = input(\"Enter the model year you want to query: \")\n",
    "\n",
    "# Set the API URL with the model input\n",
    "api_url = f'https://api.api-ninjas.com/v1/cars?model={model_input}&year={model_year}'\n",
    "\n",
    "# Send the API request\n",
    "response = requests.get(api_url, headers={'X-Api-Key': 'v+C3MLP3m3Khy1a4tYcuFQ==TXeu9XPZaFowb0b2'})\n",
    "\n",
    "# Initialize the results list\n",
    "results = []\n",
    "\n",
    "if response.status_code == requests.codes.ok:\n",
    "    car_data = response.json()\n",
    "    # Extract the 'combination_mpg' value for the car model\n",
    "    if car_data:\n",
    "        combination_mpg = car_data[0].get('combination_mpg', 'Combination MPG not available')\n",
    "    else:\n",
    "        combination_mpg = 'No data found'\n",
    "else:\n",
    "    combination_mpg = f\"Error {response.status_code}\"\n",
    "\n",
    "# Append the result for the single model\n",
    "results.append({'model': model_input, 'combination_mpg': combination_mpg})\n",
    "\n",
    "# Print the result\n",
    "print(f\"Model: {model_input}, Combination MPG: {combination_mpg}\")"
   ]
  },
  {
   "cell_type": "markdown",
   "metadata": {},
   "source": [
    "### Getting the fuel type for the vehichle"
   ]
  },
  {
   "cell_type": "code",
   "execution_count": null,
   "metadata": {},
   "outputs": [],
   "source": [
    "# Load the dataset (update the file path accordingly)\n",
    "file_path = \"C:/Users/kaur6/Downloads/Urban Analytics/Odometer Data-Full/Everything_Merged_dataset.csv\"\n",
    "df = pd.read_csv(file_path)\n",
    "\n",
    "# Print the column names\n",
    "print(df.columns)\n",
    "print(len(df))"
   ]
  },
  {
   "cell_type": "code",
   "execution_count": null,
   "metadata": {},
   "outputs": [],
   "source": [
    "# Create a new column for Fuel Type if it doesn't exist\n",
    "if 'Fuel_Type' not in df.columns:\n",
    "    df['Fuel_Type'] = None  \n",
    "\n",
    "chunk_size = 100000\n",
    "output_file_path = \"C:/Users/kaur6/Downloads/Urban Analytics/Odometer Data-Full/VIN_FuelType_Processed.csv\"\n",
    "\n",
    "# Iterate through VINs in chunks\n",
    "for start in range(0, len(df), chunk_size):\n",
    "    end = min(start + chunk_size, len(df))\n",
    "    chunk = df.iloc[start:end]\n",
    "\n",
    "    for index, row in chunk.iterrows():\n",
    "        vin = row['vin']  # Ensure 'vin' matches the exact column name in your dataset\n",
    "        cursor.execute(\"EXEC [dbo].[spVinDecode] @v = ?\", vin)\n",
    "        result = cursor.fetchall()\n",
    "\n",
    "        # Extract fuel type\n",
    "        for res in result:\n",
    "            if res[1] == 'Fuel Type - Primary':\n",
    "                df.at[index, 'Fuel_Type'] = res[2]\n",
    "                break  # Stop iterating once we get the primary fuel type\n",
    "\n",
    "    # Save only the 'vin' and 'Fuel_Type' columns\n",
    "    df.iloc[:end][['vin', 'Fuel_Type']].to_csv(output_file_path, index=False)\n",
    "\n",
    "    print(f\"Processed rows {start} to {end}. Results saved.\")\n",
    "\n",
    "# Close connection\n",
    "cursor.close()\n",
    "conn.close()\n",
    "\n",
    "print(f\"Final dataset saved at: {output_file_path}\")"
   ]
  }
 ],
 "metadata": {
  "kernelspec": {
   "display_name": "Python 3 (ipykernel)",
   "language": "python",
   "name": "python3"
  },
  "language_info": {
   "codemirror_mode": {
    "name": "ipython",
    "version": 3
   },
   "file_extension": ".py",
   "mimetype": "text/x-python",
   "name": "python",
   "nbconvert_exporter": "python",
   "pygments_lexer": "ipython3",
   "version": "3.12.3"
  }
 },
 "nbformat": 4,
 "nbformat_minor": 4
}
