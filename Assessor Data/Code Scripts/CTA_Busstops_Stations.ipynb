{
 "cells": [
  {
   "cell_type": "markdown",
   "id": "89564646-3c03-48aa-80b8-cfda0f3ed9e6",
   "metadata": {},
   "source": [
    "## CTA Bus Stops, Train Stations & Metra Stations Mapping\n",
    "\n",
    "This notebook extracts and visualizes public transit infrastructure in Cook County using multiple sources, including KMZ/KML files and the Overpass API. The goal is to create an interactive map that displays the spatial layout of **CTA bus stops**, **CTA train stations**, and **Metra commuter rail stations**, which is critical for evaluating **transit access** in urban planning and zoning projects.\n",
    "\n",
    "### Data Sources:\n",
    "- **CTA Bus Stops** and **CTA Rail (Train) Stations**:\n",
    "  - Downloaded from the **official CTA website** in KMZ format.\n",
    "  - Extracted and parsed using XML/KML tools.\n",
    "- **Metra Stations**:\n",
    "  - Retrieved from **OpenStreetMap** via the Overpass Turbo API, filtered for Cook County.\n",
    "\n",
    "### Workflow Overview:\n",
    "1. Extract KMZ → KML files for CTA bus and train stations.\n",
    "2. Parse and convert station data into usable formats (GeoDataFrames).\n",
    "3. Query and collect Metra station locations using Overpass API.\n",
    "4. Visualize all stations together using **Folium**, with distinct markers for each transit type.\n",
    "\n",
    "### Purpose:\n",
    "This map will be used to:\n",
    "- Assess **transit-oriented development (TOD)** potential.\n",
    "- Support spatial analysis related to **Connected Communities** zoning overlays.\n",
    "- Overlay with parcel and zoning data to identify priority zones for investment or equitable development."
   ]
  },
  {
   "cell_type": "markdown",
   "id": "a4bca3b7-1dbd-4fca-9c82-69a047f82932",
   "metadata": {},
   "source": [
    "## Extracting CTA Bus stops file"
   ]
  },
  {
   "cell_type": "code",
   "execution_count": 1,
   "id": "1f98f8e1-0c7d-44c4-a1f2-8070ab0ec4f6",
   "metadata": {},
   "outputs": [],
   "source": [
    "# importing required libraries\n",
    "import zipfile\n",
    "import os\n",
    "import geopandas as gpd\n",
    "from pykml import parser\n",
    "from lxml import etree\n",
    "import xml.etree.ElementTree as ET\n",
    "import folium\n",
    "from folium.plugins import MarkerCluster\n",
    "import requests\n",
    "import pandas as pd\n",
    "from shapely.ops import unary_union\n",
    "import random\n",
    "from shapely.geometry import Point, box\n",
    "from folium.plugins import FastMarkerCluster"
   ]
  },
  {
   "cell_type": "code",
   "execution_count": 5,
   "id": "942b8baa-5c92-4d66-b033-965c0d24261d",
   "metadata": {},
   "outputs": [],
   "source": [
    "# Extract the KMZ file to get KML file\n",
    "kmz_file = 'C:/Users/kaur6/Downloads/Urban Analytics/CTA_BusStops.kmz'\n",
    "\n",
    "with zipfile.ZipFile(kmz_file, 'r') as kmz:\n",
    "    kmz.extractall('extracted_kmz')"
   ]
  },
  {
   "cell_type": "markdown",
   "id": "03cce864-755a-48bf-bfda-8bcbcd03710f",
   "metadata": {},
   "source": [
    "## Visualizing CTA bus stops on Map"
   ]
  },
  {
   "cell_type": "code",
   "execution_count": 8,
   "id": "64738655-5e22-4b1f-ab43-c4bc21ea2de5",
   "metadata": {},
   "outputs": [
    {
     "name": "stdout",
     "output_type": "stream",
     "text": [
      "✅ Map saved as 'C:/Users/kaur6/Downloads/Urban Analytics/bus_stops_map.html'. Open this file in a browser to view.\n"
     ]
    }
   ],
   "source": [
    "# Load the KML file\n",
    "kml_file = \"C:/Users/kaur6/Downloads/Urban Analytics/extracted_kmz_b/CTA_BusStops.kml\"\n",
    "tree = ET.parse(kml_file)\n",
    "root = tree.getroot()\n",
    "\n",
    "# Define KML namespace\n",
    "namespace = {'kml': 'http://www.opengis.net/kml/2.2'}\n",
    "\n",
    "# Extract all Placemark elements\n",
    "placemarks = root.findall('.//kml:Placemark', namespaces=namespace)\n",
    "\n",
    "# Extract coordinates (longitude, latitude)\n",
    "bus_stops = []\n",
    "for placemark in placemarks:\n",
    "    coordinates = placemark.find('.//kml:coordinates', namespaces=namespace)\n",
    "    if coordinates is not None:\n",
    "        # KML format: longitude,latitude\n",
    "        coords = coordinates.text.strip().split(',')\n",
    "        longitude = float(coords[0])\n",
    "        latitude = float(coords[1])\n",
    "        bus_stops.append((latitude, longitude))\n",
    "\n",
    "# Create a map centered at the first bus stop\n",
    "if bus_stops:\n",
    "    first_stop = bus_stops[0]\n",
    "    m = folium.Map(location=first_stop, zoom_start=12)\n",
    "\n",
    "    # Use MarkerCluster for efficiency\n",
    "    marker_cluster = MarkerCluster().add_to(m)\n",
    "\n",
    "    # Add all bus stops to the cluster\n",
    "    for lat, lon in bus_stops:\n",
    "        folium.Marker(\n",
    "            [lat, lon], \n",
    "            popup=f\"Bus Stop: {lat}, {lon}\"\n",
    "        ).add_to(marker_cluster)\n",
    "\n",
    "    # Save and display the map\n",
    "    output_file = \"C:/Users/kaur6/Downloads/Urban Analytics/bus_stops_map.html\"\n",
    "    m.save(output_file)\n",
    "    print(f\"✅ Map saved as '{output_file}'. Open this file in a browser to view.\")\n",
    "\n",
    "else:\n",
    "    print(\"❌ No bus stops found in the KML file.\")"
   ]
  },
  {
   "cell_type": "markdown",
   "id": "2fcffc13-a130-4993-8118-a2fa6cf14bf6",
   "metadata": {},
   "source": [
    "## Extracting CTA Train Stations"
   ]
  },
  {
   "cell_type": "code",
   "execution_count": 7,
   "id": "354fa832-5458-4501-b02a-6c97770216b0",
   "metadata": {},
   "outputs": [],
   "source": [
    "# Extract the KMZ file to get KML file\n",
    "kmz_r_file = 'C:/Users/kaur6/Downloads/Urban Analytics/CTA_RailStations.kmz'  # Path to your KMZ file\n",
    "with zipfile.ZipFile(kmz_r_file, 'r') as kmz:\n",
    "    kmz.extractall('extracted_kmz')"
   ]
  },
  {
   "cell_type": "markdown",
   "id": "c58b01e0-ee6c-44bd-b94d-b725d2cd5f3a",
   "metadata": {},
   "source": [
    "## Visualizing CTA train stations on Map"
   ]
  },
  {
   "cell_type": "code",
   "execution_count": null,
   "id": "df9cfad9-da5b-47a2-805a-51aabf2c3c85",
   "metadata": {},
   "outputs": [],
   "source": [
    "# Load the KML file\n",
    "kml_r_file = \"C:/Users/kaur6/Downloads/Urban Analytics/extracted_kmz_r/CTA_RailStations.kml\"\n",
    "tree = ET.parse(kml_r_file)\n",
    "root = tree.getroot()\n",
    "\n",
    "# Define KML namespace\n",
    "namespace = {'kml': 'http://www.opengis.net/kml/2.2'}\n",
    "\n",
    "# Extract all Placemark elements\n",
    "placemarks = root.findall('.//kml:Placemark', namespaces=namespace)\n",
    "\n",
    "# Extract coordinates (longitude, latitude)\n",
    "rail_stations = []\n",
    "for placemark in placemarks:\n",
    "    coordinates = placemark.find('.//kml:coordinates', namespaces=namespace)\n",
    "    if coordinates is not None:\n",
    "        # KML format: longitude,latitude\n",
    "        coords = coordinates.text.strip().split(',')\n",
    "        longitude = float(coords[0])\n",
    "        latitude = float(coords[1])\n",
    "        rail_stations.append((latitude, longitude))\n",
    "\n",
    "# Create a map centered at the first rail station\n",
    "if rail_stations:\n",
    "    first_station = rail_stations[0]\n",
    "    m = folium.Map(location=first_station, zoom_start=12)\n",
    "\n",
    "    # Add markers for all bus stops\n",
    "    for lat, lon in rail_stations:\n",
    "        folium.Marker([lat, lon], popup=f\"Rail Station: {lat}, {lon}\").add_to(m)\n",
    "\n",
    "    # Save and display the map\n",
    "    m.save(\"rail_stations_map.html\")\n",
    "    print(\"Map saved as 'rail_stations_map.html'. Open this file in a browser to view.\")\n",
    "\n",
    "else:\n",
    "    print(\"No rail stations found in the KML file.\")"
   ]
  },
  {
   "cell_type": "markdown",
   "id": "b13ecbe2-b681-4568-befd-b0713a7f2922",
   "metadata": {},
   "source": [
    "## Getting Metra Stations in Cook County from Overpass API"
   ]
  },
  {
   "cell_type": "code",
   "execution_count": 5,
   "id": "7a5baf0b-beb7-4af5-a51b-9c3162e5d1fb",
   "metadata": {},
   "outputs": [
    {
     "name": "stdout",
     "output_type": "stream",
     "text": [
      "Saved Metra stations to metra_stations_cook_county.geojson and metra_stations_cook_county.csv\n"
     ]
    }
   ],
   "source": [
    "# Overpass Turbo API URL\n",
    "overpass_url = \"http://overpass-api.de/api/interpreter\"\n",
    "query = \"\"\"\n",
    "[out:json];\n",
    "area[name=\"Cook County\"]->.searchArea;\n",
    "node[\"railway\"=\"station\"][\"operator\"~\"Metra\"](area.searchArea);\n",
    "out body;\n",
    "\"\"\"\n",
    "\n",
    "# Fetch data from Overpass API\n",
    "response = requests.get(overpass_url, params={\"data\": query})\n",
    "data = response.json()\n",
    "\n",
    "# Extract relevant information (ID, name, latitude, longitude)\n",
    "stations = []\n",
    "for element in data[\"elements\"]:\n",
    "    if \"lat\" in element and \"lon\" in element:\n",
    "        name = element[\"tags\"].get(\"name\", \"Unknown Station\")\n",
    "        stations.append({\n",
    "            \"ID\": element[\"id\"],\n",
    "            \"Name\": name,\n",
    "            \"Latitude\": element[\"lat\"],\n",
    "            \"Longitude\": element[\"lon\"]\n",
    "        })\n",
    "\n",
    "# Convert to GeoDataFrame\n",
    "gdf = gpd.GeoDataFrame(stations, geometry=gpd.points_from_xy(\n",
    "    [s[\"Longitude\"] for s in stations], [s[\"Latitude\"] for s in stations]\n",
    "))\n",
    "\n",
    "# Set CRS for Metra stations (WGS 84 - EPSG:4326)\n",
    "gdf.set_crs(\"EPSG:4326\", allow_override=True, inplace=True)\n",
    "\n",
    "# Save as GeoJSON and CSV\n",
    "geojson_path = \"metra_stations_cook_county.geojson\"\n",
    "csv_path = \"metra_stations_cook_county.csv\"\n",
    "gdf.to_file(geojson_path, driver=\"GeoJSON\")\n",
    "gdf.drop(columns=[\"geometry\"]).to_csv(csv_path, index=False)\n",
    "\n",
    "print(f\"Saved Metra stations to {geojson_path} and {csv_path}\")"
   ]
  },
  {
   "cell_type": "markdown",
   "id": "383d08f3-b02e-4165-8702-f6a7cd135655",
   "metadata": {},
   "source": [
    "## Visualizing CTA and Metra Stations on same map"
   ]
  },
  {
   "cell_type": "code",
   "execution_count": 6,
   "id": "b09a63e6-97a9-44da-bb33-4b138a9c469d",
   "metadata": {},
   "outputs": [
    {
     "name": "stdout",
     "output_type": "stream",
     "text": [
      "Number of CTA Rail Stations: 144\n",
      "Number of Metra Rail Stations: 132\n",
      "Map saved as 'cta_metra_stations_map.html'. Open this file in a browser to view.\n"
     ]
    }
   ],
   "source": [
    "# Define KML namespace\n",
    "namespace = {'kml': 'http://www.opengis.net/kml/2.2'}\n",
    "\n",
    "# Load CTA Rail Stations KML file\n",
    "kml_r_file = \"C:/Users/kaur6/Downloads/Urban Analytics/extracted_kmz_r/CTA_RailStations.kml\"\n",
    "tree = ET.parse(kml_r_file)\n",
    "root = tree.getroot()\n",
    "\n",
    "# Extract all Placemark elements\n",
    "placemarks = root.findall('.//kml:Placemark', namespaces=namespace)\n",
    "\n",
    "# Extract CTA rail station coordinates\n",
    "cta_stations = []\n",
    "for placemark in placemarks:\n",
    "    coordinates = placemark.find('.//kml:coordinates', namespaces=namespace)\n",
    "    if coordinates is not None:\n",
    "        coords = coordinates.text.strip().split(',')\n",
    "        longitude = float(coords[0])\n",
    "        latitude = float(coords[1])\n",
    "        cta_stations.append((latitude, longitude))\n",
    "\n",
    "# Print number of CTA stations\n",
    "print(f\"Number of CTA Rail Stations: {len(cta_stations)}\")\n",
    "\n",
    "# Convert CTA data to a GeoDataFrame\n",
    "cta_gdf = gpd.GeoDataFrame(cta_stations, columns=[\"Latitude\", \"Longitude\"], \n",
    "                           geometry=[Point(lon, lat) for lat, lon in cta_stations])\n",
    "\n",
    "# Load Metra Rail Stations from GeoJSON\n",
    "metra_gdf = gpd.read_file(\"C:/Users/kaur6/Downloads/Urban Analytics/metra_stations_cook_county.geojson\")\n",
    "\n",
    "# Print number of Metra stations\n",
    "print(f\"Number of Metra Rail Stations: {len(metra_gdf)}\")\n",
    "\n",
    "# Create a Folium map centered at an average location\n",
    "map_center = [cta_gdf[\"Latitude\"].mean(), cta_gdf[\"Longitude\"].mean()]\n",
    "m = folium.Map(location=map_center, zoom_start=11)\n",
    "\n",
    "# Add CTA stations (Blue markers)\n",
    "for idx, row in cta_gdf.iterrows():\n",
    "    folium.Marker(\n",
    "        location=[row[\"Latitude\"], row[\"Longitude\"]],\n",
    "        popup=f\"CTA Rail Station: {row['Latitude']}, {row['Longitude']}\",\n",
    "        icon=folium.Icon(color=\"blue\", icon=\"train\")\n",
    "    ).add_to(m)\n",
    "\n",
    "# Add Metra stations (Red markers)\n",
    "for idx, row in metra_gdf.iterrows():\n",
    "    folium.Marker(\n",
    "        location=[row[\"Latitude\"], row[\"Longitude\"]],\n",
    "        popup=f\"Metra Station: {row['Name']}\",\n",
    "        icon=folium.Icon(color=\"red\", icon=\"train\")\n",
    "    ).add_to(m)\n",
    "\n",
    "# Save and display the map\n",
    "m.save(\"cta_metra_stations_map.html\")\n",
    "print(\"Map saved as 'cta_metra_stations_map.html'. Open this file in a browser to view.\")"
   ]
  },
  {
   "cell_type": "code",
   "execution_count": 3,
   "id": "99c808ca-ac75-4240-8a56-18a9116b9636",
   "metadata": {},
   "outputs": [
    {
     "name": "stdout",
     "output_type": "stream",
     "text": [
      "         id                          Name  \\\n",
      "0  ID_00000        East River Rd & Berwyn   \n",
      "1  ID_00001  Cumberland Blue Line Station   \n",
      "2  ID_00002         Lawrence & Cumberland   \n",
      "3  ID_00003           Cumberland & Foster   \n",
      "4  ID_00004           Cumberland & Berwyn   \n",
      "\n",
      "                                         description timestamp begin end  \\\n",
      "0  <html xmlns:fo=\"http://www.w3.org/1999/XSL/For...       NaT   NaT NaT   \n",
      "1  <html xmlns:fo=\"http://www.w3.org/1999/XSL/For...       NaT   NaT NaT   \n",
      "2  <html xmlns:fo=\"http://www.w3.org/1999/XSL/For...       NaT   NaT NaT   \n",
      "3  <html xmlns:fo=\"http://www.w3.org/1999/XSL/For...       NaT   NaT NaT   \n",
      "4  <html xmlns:fo=\"http://www.w3.org/1999/XSL/For...       NaT   NaT NaT   \n",
      "\n",
      "    altitudeMode  tessellate  extrude  visibility  drawOrder  icon snippet  \\\n",
      "0  clampToGround          -1        0          -1        NaN  None           \n",
      "1  clampToGround          -1        0          -1        NaN  None           \n",
      "2  clampToGround          -1        0          -1        NaN  None           \n",
      "3  clampToGround          -1        0          -1        NaN  None           \n",
      "4  clampToGround          -1        0          -1        NaN  None           \n",
      "\n",
      "                         geometry  \n",
      "0  POINT Z (-87.84641 41.97487 0)  \n",
      "1  POINT Z (-87.83903 41.98368 0)  \n",
      "2   POINT Z (-87.83643 41.9667 0)  \n",
      "3  POINT Z (-87.83684 41.97382 0)  \n",
      "4   POINT Z (-87.83654 41.9756 0)  \n",
      "✅ Converted and saved as GeoJSON: C:/Users/kaur6/Downloads/Urban Analytics/CTA_BusStops.geojson\n"
     ]
    }
   ],
   "source": [
    "# Load KML file (it uses a driver via fiona)\n",
    "kml_path = \"C:/Users/kaur6/Downloads/Urban Analytics/extracted_kmz_b/CTA_BusStops.kml\"\n",
    "\n",
    "# Use the correct layer (usually first)\n",
    "gdf = gpd.read_file(kml_path, driver='KML')\n",
    "\n",
    "# Optional: preview\n",
    "print(gdf.head())\n",
    "\n",
    "# Save to GeoJSON\n",
    "output_path = \"C:/Users/kaur6/Downloads/Urban Analytics/CTA_BusStops.geojson\"\n",
    "gdf.to_file(output_path, driver=\"GeoJSON\")\n",
    "print(f\"✅ Converted and saved as GeoJSON: {output_path}\")"
   ]
  },
  {
   "cell_type": "code",
   "execution_count": 4,
   "id": "5458953a-b1ff-46d5-bdc8-9d5eef3d7f94",
   "metadata": {},
   "outputs": [
    {
     "name": "stdout",
     "output_type": "stream",
     "text": [
      "         id                          Name  \\\n",
      "0  ID_00000        East River Rd & Berwyn   \n",
      "1  ID_00001  Cumberland Blue Line Station   \n",
      "2  ID_00002         Lawrence & Cumberland   \n",
      "3  ID_00003           Cumberland & Foster   \n",
      "4  ID_00004           Cumberland & Berwyn   \n",
      "\n",
      "                                         description timestamp begin   end  \\\n",
      "0  <html xmlns:fo=\"http://www.w3.org/1999/XSL/For...      None  None  None   \n",
      "1  <html xmlns:fo=\"http://www.w3.org/1999/XSL/For...      None  None  None   \n",
      "2  <html xmlns:fo=\"http://www.w3.org/1999/XSL/For...      None  None  None   \n",
      "3  <html xmlns:fo=\"http://www.w3.org/1999/XSL/For...      None  None  None   \n",
      "4  <html xmlns:fo=\"http://www.w3.org/1999/XSL/For...      None  None  None   \n",
      "\n",
      "    altitudeMode  tessellate  extrude  visibility drawOrder  icon snippet  \\\n",
      "0  clampToGround          -1        0          -1      None  None           \n",
      "1  clampToGround          -1        0          -1      None  None           \n",
      "2  clampToGround          -1        0          -1      None  None           \n",
      "3  clampToGround          -1        0          -1      None  None           \n",
      "4  clampToGround          -1        0          -1      None  None           \n",
      "\n",
      "                         geometry  \n",
      "0  POINT Z (-87.84641 41.97486 0)  \n",
      "1  POINT Z (-87.83903 41.98368 0)  \n",
      "2   POINT Z (-87.83643 41.9667 0)  \n",
      "3  POINT Z (-87.83684 41.97382 0)  \n",
      "4   POINT Z (-87.83654 41.9756 0)  \n",
      "Index(['id', 'Name', 'description', 'timestamp', 'begin', 'end',\n",
      "       'altitudeMode', 'tessellate', 'extrude', 'visibility', 'drawOrder',\n",
      "       'icon', 'snippet', 'geometry'],\n",
      "      dtype='object')\n",
      "CRS: EPSG:4326\n",
      "Total bus stops: 10822\n"
     ]
    }
   ],
   "source": [
    "# Load GeoJSON\n",
    "gdf = gpd.read_file(\"C:/Users/kaur6/Downloads/Urban Analytics/CTA_BusStops.geojson\")\n",
    "\n",
    "# Preview first few rows\n",
    "print(gdf.head())\n",
    "\n",
    "# See all column names\n",
    "print(gdf.columns)\n",
    "\n",
    "# Optional: check CRS and row count\n",
    "print(\"CRS:\", gdf.crs)\n",
    "print(\"Total bus stops:\", len(gdf))"
   ]
  },
  {
   "cell_type": "code",
   "execution_count": null,
   "id": "8079b8aa-efa0-476f-84a9-93676b741c4b",
   "metadata": {},
   "outputs": [],
   "source": []
  }
 ],
 "metadata": {
  "kernelspec": {
   "display_name": "Python (geo_env)",
   "language": "python",
   "name": "geo_env"
  },
  "language_info": {
   "codemirror_mode": {
    "name": "ipython",
    "version": 3
   },
   "file_extension": ".py",
   "mimetype": "text/x-python",
   "name": "python",
   "nbconvert_exporter": "python",
   "pygments_lexer": "ipython3",
   "version": "3.13.2"
  }
 },
 "nbformat": 4,
 "nbformat_minor": 5
}
