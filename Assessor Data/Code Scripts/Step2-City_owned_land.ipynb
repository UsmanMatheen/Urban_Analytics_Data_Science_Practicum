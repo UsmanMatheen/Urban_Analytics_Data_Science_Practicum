{
 "cells": [
  {
   "cell_type": "markdown",
   "id": "571f1bf8-6b5a-404d-98b8-ead349641ef6",
   "metadata": {},
   "source": [
    "## 🏙️ City-Owned Land Data Cleaning (Chicago Data Portal)\n",
    "\n",
    "This notebook processes the “City-Owned Land Inventory” dataset downloaded from the [Chicago Data Portal](https://data.cityofchicago.org/). The dataset contains details about properties owned by the City of Chicago, including their location, sales status, and property condition.\n",
    "\n",
    "### Objective:\n",
    "To identify and clean city-owned parcels by:\n",
    "- Filtering only properties that are **owned by the city**\n",
    "- Cleaning and standardizing text fields (e.g., removing extra spaces)\n",
    "- Excluding properties that are **not available for acquisition**, such as those with sales statuses like `\"Application Closed\"` or `\"Offered\"`\n",
    "\n",
    "### Steps:\n",
    "1. Load the raw dataset and inspect columns and value distributions.\n",
    "2. Filter for `\"Owned by City\"` property status (with typo handling).\n",
    "3. Remove parcels not currently available for sale.\n",
    "4. Output the cleaned dataset for further urban planning and analysis.\n",
    "\n",
    "✅ The resulting dataset provides a clean list of city-owned land parcels that are potentially available for reuse or development."
   ]
  },
  {
   "cell_type": "markdown",
   "id": "b15c4bef-65f2-4164-935c-317accfaf691",
   "metadata": {},
   "source": [
    "### City Owned Land Filtered"
   ]
  },
  {
   "cell_type": "code",
   "execution_count": 2,
   "id": "62edbf25-86a3-4a3a-8580-d04d1c2171f6",
   "metadata": {},
   "outputs": [
    {
     "name": "stdout",
     "output_type": "stream",
     "text": [
      "Columns in the dataset: ['ID', 'PIN', 'Address', 'Managing Organization', 'Property Status', 'Date of Acquisition', 'Date of Disposition', 'Sales Status', 'Sale Offering Status', 'Sale Offering Reason', 'Sq. Ft.', 'Square Footage - City Estimate', 'Land Value (2022)', 'Ward', 'Community Area Number', 'Community Area Name', 'Zoning Classification', 'Zip Code', 'Last Update', 'Application Use', 'Grouped Parcels', 'Application Deadline', 'Offer Round', 'Application URL', 'X Coordinate', 'Y Coordinate', 'Latitude', 'Longitude', 'Location']\n",
      "Number of rows: 20622\n"
     ]
    }
   ],
   "source": [
    "import pandas as pd\n",
    "# Load the CSV file downloded from Chicago data portal\n",
    "file_path1 = \"C:/Users/kaur6/Downloads/Urban Analytics/City-Owned_Land_Inventory.csv\"\n",
    "df1 = pd.read_csv(file_path1)\n",
    "\n",
    "# Display columns and number of rows\n",
    "print(\"Columns in the dataset:\", df1.columns.tolist())\n",
    "print(\"Number of rows:\", df1.shape[0])"
   ]
  },
  {
   "cell_type": "code",
   "execution_count": 3,
   "id": "3ee4479c-92ea-4caf-9b8a-18234a5508c4",
   "metadata": {},
   "outputs": [
    {
     "name": "stdout",
     "output_type": "stream",
     "text": [
      "Unique values in 'Property Status': ['Owned by City' 'Sold' 'Sold By City' 'Leased' 'Not City Owned'\n",
      " 'Sold by City' 'Ownd by City' nan 'In Acquisition']\n"
     ]
    }
   ],
   "source": [
    "# Print unique values for 'Sales Status' and 'Sale Offering Status'\n",
    "print(\"Unique values in 'Property Status':\", df1['Property Status'].unique())"
   ]
  },
  {
   "cell_type": "code",
   "execution_count": 4,
   "id": "157c90c6-8652-475b-86ff-d79363a69a94",
   "metadata": {},
   "outputs": [
    {
     "name": "stdout",
     "output_type": "stream",
     "text": [
      "Filtered data saved to: C:/Users/kaur6/Downloads/Urban Analytics/Owned_By_City_Properties.csv\n"
     ]
    }
   ],
   "source": [
    "# Standardize the 'Property Status' column\n",
    "df1['Property Status'] = df1['Property Status'].str.strip()  # Remove leading/trailing spaces\n",
    "\n",
    "# Filter rows where 'Property Status' is 'Owned by City' or its misspelled version\n",
    "filtered_df = df1[df1['Property Status'].isin(['Owned by City', 'Ownd by City'])].copy()\n",
    "\n",
    "# Correct the misspelled value\n",
    "filtered_df['Property Status'] = 'Owned by City'\n",
    "\n",
    "# Save to a new CSV file\n",
    "output_path = \"C:/Users/kaur6/Downloads/Urban Analytics/Owned_By_City_Properties.csv\"\n",
    "filtered_df.to_csv(output_path, index=False)\n",
    "\n",
    "print(f\"Filtered data saved to: {output_path}\")"
   ]
  },
  {
   "cell_type": "code",
   "execution_count": 5,
   "id": "5b185f67-22a5-47f0-bee6-afb017fd8154",
   "metadata": {},
   "outputs": [
    {
     "name": "stdout",
     "output_type": "stream",
     "text": [
      "Number of rows: 12416\n"
     ]
    }
   ],
   "source": [
    "print(\"Number of rows:\", filtered_df.shape[0])"
   ]
  },
  {
   "cell_type": "code",
   "execution_count": 6,
   "id": "70542a46-256e-48ce-8f5d-9695bb7f8bd1",
   "metadata": {},
   "outputs": [
    {
     "name": "stdout",
     "output_type": "stream",
     "text": [
      "Null value count for each column:\n",
      " ID                                    0\n",
      "PIN                                   0\n",
      "Address                             714\n",
      "Managing Organization              7163\n",
      "Property Status                       0\n",
      "Date of Acquisition                4546\n",
      "Date of Disposition               12411\n",
      "Sales Status                       3561\n",
      "Sale Offering Status              11674\n",
      "Sale Offering Reason              11673\n",
      "Sq. Ft.                             381\n",
      "Square Footage - City Estimate     8237\n",
      "Land Value (2022)                  8229\n",
      "Ward                                831\n",
      "Community Area Number               831\n",
      "Community Area Name                 834\n",
      "Zoning Classification               834\n",
      "Zip Code                            384\n",
      "Last Update                           0\n",
      "Application Use                   11600\n",
      "Grouped Parcels                   11938\n",
      "Application Deadline              11331\n",
      "Offer Round                       11324\n",
      "Application URL                   11444\n",
      "X Coordinate                        831\n",
      "Y Coordinate                        831\n",
      "Latitude                            831\n",
      "Longitude                           831\n",
      "Location                            831\n",
      "dtype: int64\n"
     ]
    }
   ],
   "source": [
    "file = pd.read_csv(\"C:/Users/kaur6/Downloads/Urban Analytics/Owned_By_City_Properties.csv\")\n",
    "# Count null values for each column\n",
    "null_counts = file.isnull().sum()\n",
    "# Print null value counts\n",
    "print(\"Null value count for each column:\\n\", null_counts)"
   ]
  },
  {
   "cell_type": "code",
   "execution_count": 8,
   "id": "90230ac1-6791-4369-bc55-891c0f4a74f7",
   "metadata": {},
   "outputs": [
    {
     "name": "stdout",
     "output_type": "stream",
     "text": [
      "Unique values in 'Sales Status': [nan 'Interest' 'Application(s) Received' 'Offered' 'Application Closed'\n",
      " 'Not offered' 'Application Received' 'See note' 'Partially verified'\n",
      " 'Verified' 'Apply']\n"
     ]
    }
   ],
   "source": [
    "# Print unique values for 'Sales Status' and 'Sale Offering Status'\n",
    "print(\"Unique values in 'Sales Status':\", df1['Sales Status'].unique())"
   ]
  },
  {
   "cell_type": "code",
   "execution_count": 9,
   "id": "88837096-7493-4af5-9dcd-88287ed0bafd",
   "metadata": {},
   "outputs": [
    {
     "name": "stdout",
     "output_type": "stream",
     "text": [
      "Number of rows where 'Sales Status' is 'Application Closed': 515\n",
      "Number of rows where 'Sales Status' is 'Offered': 985\n"
     ]
    }
   ],
   "source": [
    "# Count rows where 'Sales Status' is 'Application Closed'\n",
    "application_closed_count = (file['Sales Status'] == 'Application Closed').sum()\n",
    "# Print the count\n",
    "print(\"Number of rows where 'Sales Status' is 'Application Closed':\", application_closed_count)\n",
    "# Count rows where 'Sales Status' is 'Offered'\n",
    "offered_count = (file['Sales Status'] == 'Offered').sum()\n",
    "# Print the count\n",
    "print(\"Number of rows where 'Sales Status' is 'Offered':\", offered_count)"
   ]
  },
  {
   "cell_type": "code",
   "execution_count": 10,
   "id": "c3472515-e0dc-4bf4-a68a-32b484814798",
   "metadata": {},
   "outputs": [
    {
     "name": "stdout",
     "output_type": "stream",
     "text": [
      "Rows with 'Application Closed' and 'Offered' removed. Cleaned data saved to: C:/Users/kaur6/Downloads/Urban Analytics/Cleaned_City_Owned_Land.csv\n"
     ]
    }
   ],
   "source": [
    "# Filter out rows where 'Sales Status' is 'Application Closed' or 'Offered'\n",
    "df_cleaned = file[~file['Sales Status'].isin(['Application Closed', 'Offered'])]\n",
    "\n",
    "# Save the cleaned data to a new CSV file\n",
    "output_path = \"C:/Users/kaur6/Downloads/Urban Analytics/Cleaned_City_Owned_Land.csv\"\n",
    "df_cleaned.to_csv(output_path, index=False)\n",
    "\n",
    "print(f\"Rows with 'Application Closed' and 'Offered' removed. Cleaned data saved to: {output_path}\")"
   ]
  },
  {
   "cell_type": "code",
   "execution_count": 11,
   "id": "0c072558-659d-4565-a55a-709370d80830",
   "metadata": {},
   "outputs": [
    {
     "name": "stdout",
     "output_type": "stream",
     "text": [
      "Number of rows: 10916\n"
     ]
    }
   ],
   "source": [
    "print(\"Number of rows:\", df_cleaned.shape[0])"
   ]
  }
 ],
 "metadata": {
  "kernelspec": {
   "display_name": "Python 3 (ipykernel)",
   "language": "python",
   "name": "python3"
  },
  "language_info": {
   "codemirror_mode": {
    "name": "ipython",
    "version": 3
   },
   "file_extension": ".py",
   "mimetype": "text/x-python",
   "name": "python",
   "nbconvert_exporter": "python",
   "pygments_lexer": "ipython3",
   "version": "3.12.4"
  }
 },
 "nbformat": 4,
 "nbformat_minor": 5
}
